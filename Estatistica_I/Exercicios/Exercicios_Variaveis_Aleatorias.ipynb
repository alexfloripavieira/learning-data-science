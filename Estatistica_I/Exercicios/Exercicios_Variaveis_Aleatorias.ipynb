{
 "cells": [
  {
   "cell_type": "markdown",
   "id": "21341884",
   "metadata": {},
   "source": [
    "**Questão 1**\n",
    "\n",
    "Dentre os 7 atletas, designados por A, B, C, D, E, F e G, com maiores notas de uma prova de skate dois serão sorteados para receber um auxílio financeiro do patrocinador da competição. As notas destes atletas são: 8,7; 8,6; 9,4; 9,6; 8,8; 9,5; 9,2.\n",
    "    \n",
    "(A) Defina um espaço amostral para esse experimento.\n",
    "(B) Seja X = \"Nota média dos atletas selecionados\". Liste os possíveis valores de X"
   ]
  },
  {
   "cell_type": "markdown",
   "id": "20599d14",
   "metadata": {},
   "source": [
    "**Questão 2**\n",
    "\n",
    "O João é um bom lançador de dardos e acerta 35% dos lançamentos na mosca do alvo. Se ele faz 14 lançamentos, qual a probabilidade de ele acertar na mosca no máximo 2 vezes?"
   ]
  },
  {
   "cell_type": "markdown",
   "id": "4ba5a69e",
   "metadata": {},
   "source": [
    "**Questão 3**\n",
    "\n",
    "O número médio de clientes que entram em um supermercado por hora é igual a 15. Obtenha a probabilidade de, na próxima hora, entrarem exatamente 21 clientes."
   ]
  },
  {
   "cell_type": "markdown",
   "id": "96c4ad4b",
   "metadata": {},
   "source": [
    "**Questão 4**\n",
    "\n",
    "A concentração de um poluente em água liberada por uma fábrica tem distribuição N(8; 1,5). Qual a chance, de que num dado dia, a concentração do poluente exceda o limite regulatório de 10 ppm?"
   ]
  }
 ],
 "metadata": {
  "kernelspec": {
   "display_name": "Python 3 (ipykernel)",
   "language": "python",
   "name": "python3"
  },
  "language_info": {
   "codemirror_mode": {
    "name": "ipython",
    "version": 3
   },
   "file_extension": ".py",
   "mimetype": "text/x-python",
   "name": "python",
   "nbconvert_exporter": "python",
   "pygments_lexer": "ipython3",
   "version": "3.9.7"
  }
 },
 "nbformat": 4,
 "nbformat_minor": 5
}
