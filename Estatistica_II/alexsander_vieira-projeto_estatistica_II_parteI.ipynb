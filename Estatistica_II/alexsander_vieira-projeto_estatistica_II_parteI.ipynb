{
  "cells": [
    {
      "cell_type": "markdown",
      "metadata": {
        "id": "DkJ6KizsgN0-"
      },
      "source": [
        "# Projeto de Estatística II\n",
        "## Parte I - Regressão Linear\n",
        "\n",
        "### Alexsander Vieira"
      ]
    },
    {
      "cell_type": "markdown",
      "metadata": {
        "id": "-SAxoARfiJZm"
      },
      "source": [
        "Importando as bibliotecas do projeto."
      ]
    },
    {
      "cell_type": "code",
      "execution_count": null,
      "metadata": {
        "id": "BzGTEa2gtba5"
      },
      "outputs": [],
      "source": [
        "import pandas as pd\n",
        "import numpy as np\n",
        "import seaborn as sns\n",
        "import matplotlib.pyplot as plt\n",
        "from   sklearn.linear_model import LinearRegression\n",
        "from sklearn.preprocessing import MinMaxScaler \n",
        "from   sklearn.metrics import r2_score\n",
        "from scipy.stats import normaltest\n",
        "from sklearn.model_selection import train_test_split\n",
        "from sklearn import metrics\n",
        "import statsmodels.api as sm\n",
        "import os"
      ]
    },
    {
      "cell_type": "code",
      "execution_count": null,
      "metadata": {
        "colab": {
          "base_uri": "https://localhost:8080/",
          "height": 386
        },
        "id": "RKdZ7iYctwdQ",
        "outputId": "f532713e-44b1-4d4d-fa80-4365dc5da466"
      },
      "outputs": [],
      "source": [
        "df = pd.read_csv('cancer_EUA.csv', sep=';', decimal=',')\n",
        "\n",
        "df.head()"
      ]
    },
    {
      "cell_type": "code",
      "execution_count": null,
      "metadata": {
        "colab": {
          "base_uri": "https://localhost:8080/",
          "height": 393
        },
        "id": "hPIfWxWVyJYR",
        "outputId": "80f465ad-e5d6-4ec8-a26b-09ba951fdfdd"
      },
      "outputs": [],
      "source": [
        "df.describe()"
      ]
    },
    {
      "cell_type": "markdown",
      "metadata": {},
      "source": [
        "Analise da porcentagem de valores nulos em relação a quantidade de valores do dataset"
      ]
    },
    {
      "cell_type": "code",
      "execution_count": null,
      "metadata": {
        "colab": {
          "base_uri": "https://localhost:8080/"
        },
        "id": "v3ZEAZRAztgA",
        "outputId": "6aaa5677-49a4-4f54-cfca-41d5021c38e0"
      },
      "outputs": [],
      "source": [
        "nulos = df.isnull().sum()\n",
        "\n",
        "nulos_porcentagem = nulos/df.shape[0]\n",
        "\n",
        "nulos_porcentagem"
      ]
    },
    {
      "cell_type": "markdown",
      "metadata": {},
      "source": [
        "Analisando e excluindo quais features estão com mais de 50% de valores nulos"
      ]
    },
    {
      "cell_type": "code",
      "execution_count": null,
      "metadata": {
        "colab": {
          "base_uri": "https://localhost:8080/"
        },
        "id": "T2OAydPj1m9D",
        "outputId": "ad94300f-dd41-458f-a962-4e01c3c37234"
      },
      "outputs": [],
      "source": [
        "nulos_porcentagem[nulos_porcentagem>0.5]"
      ]
    },
    {
      "cell_type": "code",
      "execution_count": null,
      "metadata": {},
      "outputs": [],
      "source": [
        "df.drop('PctSomeCol18_24', axis=1, inplace=True)"
      ]
    },
    {
      "cell_type": "code",
      "execution_count": null,
      "metadata": {
        "id": "7X1mxTe212cw"
      },
      "outputs": [],
      "source": [
        "df.describe()"
      ]
    },
    {
      "cell_type": "code",
      "execution_count": null,
      "metadata": {},
      "outputs": [],
      "source": [
        "nulos = df.isnull().sum()\n",
        "\n",
        "nulos_porcentagem = nulos/df.shape[0]\n",
        "\n",
        "nulos_porcentagem"
      ]
    },
    {
      "cell_type": "code",
      "execution_count": null,
      "metadata": {},
      "outputs": [],
      "source": [
        "nulos_porcentagem[nulos_porcentagem>0.5]"
      ]
    },
    {
      "cell_type": "markdown",
      "metadata": {},
      "source": [
        "### Analises sob o TARGET_deathRate"
      ]
    },
    {
      "cell_type": "code",
      "execution_count": null,
      "metadata": {},
      "outputs": [],
      "source": [
        "plt.title('Distribuição da taxa de mortalidade')\n",
        "sns.histplot(data=df, x=\"TARGET_deathRate\", kde=True)"
      ]
    },
    {
      "cell_type": "code",
      "execution_count": null,
      "metadata": {},
      "outputs": [],
      "source": [
        "\n",
        "df['TARGET_deathRate'].skew()"
      ]
    },
    {
      "cell_type": "code",
      "execution_count": null,
      "metadata": {},
      "outputs": [],
      "source": [
        "correlation = df.corr(method='spearman')"
      ]
    },
    {
      "cell_type": "code",
      "execution_count": null,
      "metadata": {
        "colab": {
          "base_uri": "https://localhost:8080/"
        },
        "id": "MujiyZGu2trk",
        "outputId": "9a8bce7c-7b01-4a2d-88fa-1c3c6a760261"
      },
      "outputs": [],
      "source": [
        "correlation['TARGET_deathRate']"
      ]
    },
    {
      "cell_type": "code",
      "execution_count": null,
      "metadata": {},
      "outputs": [],
      "source": [
        "corr_descending = correlation['TARGET_deathRate'].abs().sort_values(ascending=False)\n",
        "\n",
        "corr_descending"
      ]
    },
    {
      "cell_type": "code",
      "execution_count": null,
      "metadata": {},
      "outputs": [],
      "source": [
        "index = corr_descending[corr_descending>0.45].index\n",
        "\n",
        "index"
      ]
    },
    {
      "cell_type": "code",
      "execution_count": null,
      "metadata": {},
      "outputs": [],
      "source": [
        "count = 0\n",
        "for i in index:\n",
        "    plt.title('Distribuição da feature ' + index[count])\n",
        "    sns.histplot(data=df[i], kde=True)\n",
        "    plt.show()\n",
        "    count +=1"
      ]
    },
    {
      "cell_type": "code",
      "execution_count": null,
      "metadata": {
        "colab": {
          "base_uri": "https://localhost:8080/"
        },
        "id": "UFQ0zBii3Qkh",
        "outputId": "f3b6ad96-70f9-454e-b9ac-41ce652635f8"
      },
      "outputs": [],
      "source": [
        "df['medIncome'].skew()"
      ]
    },
    {
      "cell_type": "markdown",
      "metadata": {
        "id": "LxswYNNuUmVO"
      },
      "source": [
        "## PRIMEIRAS RESPOSTAS E CONCLUSÕES:\n",
        "\n",
        "### 1 - A distribuição se mostrou assimétrica a direita por possuir skewness > 0.\n",
        "\n",
        "### 2 - A variável escolhida para as análises que mais encaixou nas minhas análises é a medIncome"
      ]
    },
    {
      "cell_type": "code",
      "execution_count": null,
      "metadata": {
        "colab": {
          "base_uri": "https://localhost:8080/",
          "height": 498
        },
        "id": "zeuKGJJB4Jdl",
        "outputId": "5ddf598a-1979-4dc5-a9d1-99725f99963b"
      },
      "outputs": [],
      "source": [
        "plt.figure(figsize = (10,5))\n",
        "plt.scatter(\n",
        "    df['medIncome'], \n",
        "    df['TARGET_deathRate'], \n",
        "    c='blue')\n",
        "plt.xlabel(\"TARGET_deathRate\")\n",
        "plt.ylabel(\"medIncome\")\n",
        "plt.show()"
      ]
    },
    {
      "cell_type": "code",
      "execution_count": null,
      "metadata": {},
      "outputs": [],
      "source": [
        "plt.figure(figsize=(10,5))\n",
        "plt.subplot(121); df.boxplot('medIncome')\n",
        "plt.show()"
      ]
    },
    {
      "cell_type": "code",
      "execution_count": null,
      "metadata": {},
      "outputs": [],
      "source": [
        "Q1_medIncome = df['TARGET_deathRate'].quantile(0.25)\n",
        "Q3_medIncome = df['TARGET_deathRate'].quantile(0.75)\n",
        "IQR_medIncome = Q3_medIncome - Q1_medIncome #distância entre quartis\n",
        "print('{}: {}'.format(\"IQR TARGET_deathRate: \", IQR_medIncome))"
      ]
    },
    {
      "cell_type": "code",
      "execution_count": null,
      "metadata": {},
      "outputs": [],
      "source": [
        "dataout_iqr_mask_TDR = (df['TARGET_deathRate'] < Q1_medIncome - (IQR_medIncome*1.5)) | (df['TARGET_deathRate'] > Q3_medIncome + (IQR_medIncome*1.5))\n",
        "df[dataout_iqr_mask_TDR].sort_values(by='TARGET_deathRate')\n",
        "print(df[dataout_iqr_mask_TDR].sort_values(by='TARGET_deathRate'))"
      ]
    },
    {
      "cell_type": "code",
      "execution_count": null,
      "metadata": {},
      "outputs": [],
      "source": [
        "datain_iqr_mask_TDR = (df['TARGET_deathRate'] >= Q1_medIncome - (IQR_medIncome*1.5)) & (df['TARGET_deathRate'] <= Q3_medIncome + (IQR_medIncome*1.5))\n",
        "df_iqr_clean_TDR = df[datain_iqr_mask_TDR]\n",
        "\n",
        "sns.jointplot(data=df_iqr_clean_TDR, x='medIncome', y='TARGET_deathRate')\n",
        "plt.show()\n",
        "\n",
        "\n",
        "plt.figure(figsize=(10,5))\n",
        "plt.subplot(121); df_iqr_clean_TDR.boxplot('medIncome')\n",
        "plt.show()"
      ]
    },
    {
      "cell_type": "code",
      "execution_count": null,
      "metadata": {},
      "outputs": [],
      "source": [
        "Q1_medIncome = df['medIncome'].quantile(0.25)\n",
        "Q3_medIncome = df['medIncome'].quantile(0.75)\n",
        "IQR_medIncome = Q3_medIncome - Q1_medIncome\n",
        "print('{}: {}'.format(\"IQR medIncome: \", IQR_medIncome))\n",
        "\n",
        "dataout_iqr_mask_medIncome = (df['medIncome'] < Q1_medIncome - (IQR_medIncome*1.5)) | (df['medIncome'] > Q3_medIncome + (IQR_medIncome*1.5))\n",
        "df[dataout_iqr_mask_medIncome].sort_values(by='medIncome')\n",
        "print(df[dataout_iqr_mask_medIncome].sort_values(by='medIncome'))\n",
        "\n",
        "datain_iqr_mask_medIncome = (df['medIncome'] >= Q1_medIncome - (IQR_medIncome*1.5)) & (df['medIncome'] <= Q3_medIncome + (IQR_medIncome*1.5))\n",
        "df_iqr_clean_medIncome = df[datain_iqr_mask_medIncome]\n",
        "\n",
        "sns.jointplot(data=df_iqr_clean_medIncome, x='medIncome', y='TARGET_deathRate')\n",
        "plt.show()\n",
        "\n",
        "plt.figure(figsize=(10,5))\n",
        "plt.subplot(121); df_iqr_clean_medIncome.boxplot('medIncome').set_title('Boxplot da variável medIncome após retirada dos outliers')\n",
        "plt.show()"
      ]
    },
    {
      "cell_type": "code",
      "execution_count": null,
      "metadata": {},
      "outputs": [],
      "source": [
        "df = df_iqr_clean_medIncome\n",
        "df_clean = df\n",
        "df_clean"
      ]
    },
    {
      "cell_type": "code",
      "execution_count": null,
      "metadata": {},
      "outputs": [],
      "source": [
        "plt.figure(figsize=(20,20))\n",
        "plt.title('Mapa de Calor das variáveis')\n",
        "sns.heatmap(df_clean.corr(),annot=True, cmap=\"YlGnBu\", linewidths=1, cbar_kws={\"orientation\": \"horizontal\"})"
      ]
    },
    {
      "cell_type": "code",
      "execution_count": null,
      "metadata": {
        "colab": {
          "base_uri": "https://localhost:8080/"
        },
        "id": "iAcbwmCYLzdb",
        "outputId": "674c2176-22f3-4ead-bf00-9c8e325f57a4"
      },
      "outputs": [],
      "source": [
        "X = df_clean['medIncome'].values.reshape(-1,1)\n",
        "y = df_clean['TARGET_deathRate'].values.reshape(-1,1)\n",
        "\n",
        "\n",
        "reg = LinearRegression()\n",
        "reg.fit(X, y)\n",
        "\n",
        "\n",
        "print(\"Mortes = {:.5} + {:.5}X\".format(reg.intercept_[0], reg.coef_[0][0]))\n"
      ]
    },
    {
      "cell_type": "code",
      "execution_count": null,
      "metadata": {
        "colab": {
          "base_uri": "https://localhost:8080/",
          "height": 497
        },
        "id": "9440OGf2LaI0",
        "outputId": "f3eab5a6-2bce-44e4-ef6b-be507920dae0"
      },
      "outputs": [],
      "source": [
        "f_previsaoes = reg.predict(X)\n",
        "\n",
        "\n",
        "plt.figure(figsize = (10,5))\n",
        "plt.scatter(\n",
        "    df['medIncome'], \n",
        "    df['TARGET_deathRate'], \n",
        "    c='blue')\n",
        "\n",
        "\n",
        "plt.plot(\n",
        "    df['medIncome'],\n",
        "    f_previsaoes,\n",
        "    c='red',\n",
        "    linewidth=1\n",
        ")\n",
        "\n",
        "plt.xlabel(\" medIncome \")\n",
        "plt.ylabel(\" TARGET_deathRate \")\n",
        "plt.show()"
      ]
    },
    {
      "cell_type": "code",
      "execution_count": null,
      "metadata": {
        "colab": {
          "base_uri": "https://localhost:8080/"
        },
        "id": "DLq9OMXPNGbb",
        "outputId": "28c23a4b-c4fc-4afb-a92b-f9350c9bae5b"
      },
      "outputs": [],
      "source": [
        "X = df_clean['medIncome']\n",
        "y = df_clean['TARGET_deathRate']\n",
        "X2 = sm.add_constant(X)\n",
        "est = sm.OLS(y, X2)\n",
        "est2 = est.fit()\n",
        "print(est2.summary())"
      ]
    },
    {
      "cell_type": "code",
      "execution_count": null,
      "metadata": {},
      "outputs": [],
      "source": [
        "reg_lin = LinearRegression()"
      ]
    },
    {
      "cell_type": "code",
      "execution_count": null,
      "metadata": {},
      "outputs": [],
      "source": [
        "X_train, X_test, y_train, y_test = train_test_split(X, y, test_size=0.2, random_state=42)"
      ]
    },
    {
      "cell_type": "code",
      "execution_count": null,
      "metadata": {},
      "outputs": [],
      "source": [
        "X.shape, y.shape\n",
        "X_test.shape, y_test.shape\n",
        "reg_lin.fit(X_train.values.reshape(-1,1),y_train)"
      ]
    },
    {
      "cell_type": "code",
      "execution_count": null,
      "metadata": {},
      "outputs": [],
      "source": [
        "reg_lin.intercept_"
      ]
    },
    {
      "cell_type": "code",
      "execution_count": null,
      "metadata": {},
      "outputs": [],
      "source": [
        "reg_lin.coef_[0]"
      ]
    },
    {
      "cell_type": "code",
      "execution_count": null,
      "metadata": {},
      "outputs": [],
      "source": [
        "plt.figure(figsize=(15, 6))\n",
        "\n",
        "# scatterplot da feature pelo target\n",
        "sns.scatterplot(data=df_clean, x=\"medIncome\", y=\"TARGET_deathRate\")\n",
        "\n",
        "# plot da reta do modelo\n",
        "x = np.linspace(400,1200)\n",
        "y = reg_lin.intercept_ + reg_lin.coef_[0]*x\n",
        "plt.plot(x, y, color=\"red\")"
      ]
    },
    {
      "cell_type": "code",
      "execution_count": null,
      "metadata": {},
      "outputs": [],
      "source": [
        "y_pred = reg_lin.predict(X_test.values.reshape(-1,1))"
      ]
    },
    {
      "cell_type": "code",
      "execution_count": null,
      "metadata": {},
      "outputs": [],
      "source": [
        "y_test"
      ]
    },
    {
      "cell_type": "code",
      "execution_count": null,
      "metadata": {},
      "outputs": [],
      "source": [
        "y_pred"
      ]
    },
    {
      "cell_type": "code",
      "execution_count": null,
      "metadata": {},
      "outputs": [],
      "source": [
        "residuo = y_test - y_pred\n",
        "\n",
        "residuo"
      ]
    },
    {
      "cell_type": "code",
      "execution_count": null,
      "metadata": {},
      "outputs": [],
      "source": [
        "residuo.describe()"
      ]
    },
    {
      "cell_type": "code",
      "execution_count": null,
      "metadata": {},
      "outputs": [],
      "source": [
        "x = np.linspace(100, 250, 100000)\n",
        "y = x\n",
        "plt.plot(x, y, color=\"red\")\n",
        "\n",
        "sns.scatterplot(x=y_test, y=y_pred)"
      ]
    },
    {
      "cell_type": "code",
      "execution_count": null,
      "metadata": {},
      "outputs": [],
      "source": [
        "r2_score(y_test, y_pred)"
      ]
    },
    {
      "cell_type": "code",
      "execution_count": null,
      "metadata": {},
      "outputs": [],
      "source": [
        "test_stat, p = normaltest(y_test - y_pred)\n",
        "\n",
        "print(\"Estatística de teste:\", test_stat)\n",
        "print(\"\\np-value:\", p)\n",
        "\n",
        "# interpretando o teste\n",
        "# nível de significância de 5%\n",
        "alpha = 0.05\n",
        "\n",
        "if p > alpha:\n",
        "    print(\"\\nFalha em rejeitar H_0: amostra parece ser normal\")\n",
        "else:\n",
        "    print(\"\\nRejeição da H_0: amostra não é normal\")\n",
        "\n",
        "print(\"Estatística de teste:\", test_stat)\n",
        "print()"
      ]
    },
    {
      "cell_type": "code",
      "execution_count": null,
      "metadata": {},
      "outputs": [],
      "source": [
        "metrics.mean_absolute_error(y_test, y_pred)"
      ]
    },
    {
      "cell_type": "code",
      "execution_count": null,
      "metadata": {},
      "outputs": [],
      "source": [
        "metrics.mean_squared_error(y_test, y_pred)"
      ]
    },
    {
      "cell_type": "code",
      "execution_count": null,
      "metadata": {},
      "outputs": [],
      "source": [
        "metrics.mean_squared_error(y_test, y_pred, squared=False)"
      ]
    },
    {
      "cell_type": "markdown",
      "metadata": {
        "id": "5kehHixFNbsD"
      },
      "source": [
        "## Mais respostas e conclusões:\n",
        "\n",
        "### 3 - R² = 0,179 indicando que apenas 17,9% do comportamento da variável TARGET_deathRate é explicada pela variável medIncome."
      ]
    },
    {
      "cell_type": "code",
      "execution_count": null,
      "metadata": {
        "colab": {
          "base_uri": "https://localhost:8080/"
        },
        "id": "9SUpJA3MN3yT",
        "outputId": "37c304b7-2d2e-43e9-d89a-06ead970411e"
      },
      "outputs": [],
      "source": [
        "\n",
        "df_clean.info()"
      ]
    },
    {
      "cell_type": "code",
      "execution_count": null,
      "metadata": {
        "colab": {
          "base_uri": "https://localhost:8080/"
        },
        "id": "XDienIv3OFaK",
        "outputId": "3f09868d-e3bb-417d-8113-bf30e34cacf0"
      },
      "outputs": [],
      "source": [
        "df_clean.select_dtypes(include=[np.number]).info()"
      ]
    },
    {
      "cell_type": "code",
      "execution_count": null,
      "metadata": {
        "colab": {
          "base_uri": "https://localhost:8080/"
        },
        "id": "HucsBGaiOKl6",
        "outputId": "77ee7bcd-92af-4af7-c998-546b6cfcf683"
      },
      "outputs": [],
      "source": [
        "df_clean = df_clean.select_dtypes(include=[np.number])\n",
        "\n",
        "df_clean = df_clean.dropna(axis=\"columns\", how=\"any\")\n",
        "\n",
        "df_clean.select_dtypes(include=[np.number]).isnull().sum()"
      ]
    },
    {
      "cell_type": "code",
      "execution_count": null,
      "metadata": {
        "id": "uSrKjEVYOXIC"
      },
      "outputs": [],
      "source": [
        "X = df_clean.drop(columns=[\"TARGET_deathRate\"])\n",
        "y = df_clean['TARGET_deathRate']"
      ]
    },
    {
      "cell_type": "code",
      "execution_count": null,
      "metadata": {
        "colab": {
          "base_uri": "https://localhost:8080/",
          "height": 940
        },
        "id": "hNQEf4n2Odkk",
        "outputId": "4471f6de-1794-42f2-8070-29acd8517dee"
      },
      "outputs": [],
      "source": [
        "# etapas da modelagem\n",
        "\n",
        "# 1)\n",
        "estimador = LinearRegression()\n",
        "\n",
        "# 2)\n",
        "X_treino, X_teste, y_treino, y_teste = train_test_split(X, y, test_size=0.2, random_state=42)\n",
        "\n",
        "# 3)\n",
        "modelo = estimador.fit(X_treino, y_treino)\n",
        "\n",
        "print(\"Intercepto:\", modelo.intercept_)\n",
        "print(\"Coeficientes angulares:\", modelo.coef_)\n",
        "\n",
        "print(\"\\n####################################################\\n\")\n",
        "\n",
        "# 4)\n",
        "predictions = modelo.predict(X_teste)\n",
        "\n",
        "plt.title(\"valor predito vs valor real\")\n",
        "sns.scatterplot(x=predictions, y=y_teste)\n",
        "plt.plot(np.linspace(100, 250, 1000), np.linspace(100, 250, 1000), color=\"red\")\n",
        "plt.show()\n",
        "\n",
        "plt.title(\"Distribuição dos resíduos\")\n",
        "sns.histplot(y_teste-predictions, kde=True)\n",
        "plt.show()\n",
        "\n",
        "print(\"\\n####################################################\\n\")\n",
        "\n",
        "print(\"\\nMétricas de avaliação (dados de teste):\\n\")\n",
        "\n",
        "# 5)\n",
        "from sklearn import metrics\n",
        "\n",
        "print('R^2:', metrics.r2_score(y_teste, predictions))\n",
        "print('MAE:', metrics.mean_absolute_error(y_teste, predictions))\n",
        "print('MSE:', metrics.mean_squared_error(y_teste, predictions))\n",
        "print('RMSE:', np.sqrt(metrics.mean_squared_error(y_teste, predictions)))"
      ]
    },
    {
      "cell_type": "code",
      "execution_count": null,
      "metadata": {
        "id": "64xLjQN1PG0T"
      },
      "outputs": [],
      "source": [
        "df_clean['TARGET_deathRate'].min(), df_clean['TARGET_deathRate'].max()"
      ]
    },
    {
      "cell_type": "code",
      "execution_count": null,
      "metadata": {},
      "outputs": [],
      "source": [
        "((df_clean[\"TARGET_deathRate\"] - df_clean[\"TARGET_deathRate\"].min())/(df_clean[\"TARGET_deathRate\"].max() - df_clean[\"TARGET_deathRate\"].min())).describe()"
      ]
    },
    {
      "cell_type": "code",
      "execution_count": null,
      "metadata": {},
      "outputs": [],
      "source": [
        "#1) Instanciar o scaler\n",
        "mms = MinMaxScaler()\n",
        "\n",
        "#2) Treinar o scaler com os dados de treino\n",
        "mms.fit(X_treino)\n",
        "\n",
        "#3) Transformando os dados\n",
        "X_treino_scaled = mms.transform(X_treino)\n",
        "X_teste_scaled = mms.transform(X_teste)"
      ]
    },
    {
      "cell_type": "code",
      "execution_count": null,
      "metadata": {},
      "outputs": [],
      "source": [
        "X = df_clean.drop(columns=[\"TARGET_deathRate\"])\n",
        "y = df_clean['TARGET_deathRate']\n",
        "\n",
        "# 1)\n",
        "estimador = LinearRegression()\n",
        "\n",
        "# 2)\n",
        "from sklearn.model_selection import train_test_split\n",
        "X_treino, X_teste, y_treino, y_teste = train_test_split(X, y, test_size=0.2, random_state=42)\n",
        "\n",
        "# NOVO: aplicando o scaler!! - usamos o minmax pra que todas as features\n",
        "# tenham o mesmo intervalo no espaço amostral - (0, 1)\n",
        "\n",
        "mms = MinMaxScaler()\n",
        "\n",
        "# agora, vamos FITAR o scaler COM OS DADOS DE TREINO\n",
        "mms.fit(X_treino)\n",
        "\n",
        "# transformando os dados\n",
        "X_treino = mms.transform(X_treino)\n",
        "X_teste = mms.transform(X_teste)\n",
        "\n",
        "X_treino = mms.fit_transform(X_treino)\n",
        "X_teste = mms.transform(X_teste)\n",
        "\n",
        "\n",
        "# 3)\n",
        "modelo = estimador.fit(X_treino, y_treino)\n",
        "\n",
        "print(\"Intercepto:\", modelo.intercept_)\n",
        "print(\"Coeficientes angulares:\", modelo.coef_)\n",
        "\n",
        "print(\"\\n####################################################\\n\")\n",
        "\n",
        "# 4)\n",
        "predictions = modelo.predict(X_teste)\n",
        "\n",
        "plt.title(\"valor predito vs valor real\")\n",
        "sns.scatterplot(x=predictions, y=y_teste)\n",
        "plt.plot(np.linspace(100, 250, 1000), np.linspace(100, 250, 1000), color=\"red\")\n",
        "plt.show()\n",
        "\n",
        "plt.title(\"Distribuição dos resíduos\")\n",
        "sns.histplot(y_teste-predictions, kde=True)\n",
        "plt.show()\n",
        "\n",
        "print(\"\\n####################################################\\n\")\n",
        "\n",
        "print(\"\\nMétricas de avaliação (dados de teste):\\n\")\n",
        "\n",
        "# 5)\n",
        "from sklearn import metrics\n",
        "\n",
        "print('R^2:', metrics.r2_score(y_teste, predictions))\n",
        "print('MAE:', metrics.mean_absolute_error(y_teste, predictions))\n",
        "print('MSE:', metrics.mean_squared_error(y_teste, predictions))\n",
        "print('RMSE:', np.sqrt(metrics.mean_squared_error(y_teste, predictions)))"
      ]
    },
    {
      "cell_type": "markdown",
      "metadata": {
        "id": "BL4MyxbjO3N9"
      },
      "source": [
        "# CHEGAMOS A UM VEREDITO!\n",
        "\n",
        "### **Analisando os resultados dos modelos, conclui-se que o modelo de regressão múltipla tem os melhores parâmetros estatísticos de R² do que o de regressão simples.**\n"
      ]
    },
    {
      "cell_type": "code",
      "execution_count": null,
      "metadata": {
        "id": "00N119bCO5iz"
      },
      "outputs": [],
      "source": []
    }
  ],
  "metadata": {
    "colab": {
      "collapsed_sections": [],
      "provenance": []
    },
    "kernelspec": {
      "display_name": "Python 3.10.6 64-bit",
      "language": "python",
      "name": "python3"
    },
    "language_info": {
      "codemirror_mode": {
        "name": "ipython",
        "version": 3
      },
      "file_extension": ".py",
      "mimetype": "text/x-python",
      "name": "python",
      "nbconvert_exporter": "python",
      "pygments_lexer": "ipython3",
      "version": "3.10.6"
    },
    "vscode": {
      "interpreter": {
        "hash": "916dbcbb3f70747c44a77c7bcd40155683ae19c65e1c03b4aa3499c5328201f1"
      }
    }
  },
  "nbformat": 4,
  "nbformat_minor": 0
}
