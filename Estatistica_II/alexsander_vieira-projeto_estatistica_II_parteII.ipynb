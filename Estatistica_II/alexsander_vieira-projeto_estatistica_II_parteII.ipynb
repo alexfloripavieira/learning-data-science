{
  "cells": [
    {
      "cell_type": "markdown",
      "id": "51b21752",
      "metadata": {
        "id": "51b21752"
      },
      "source": [
        "# Projeto de Estatística II\n",
        "## Parte II - Regressão Logística e Hipóteses mais complexas\n",
        "\n",
        "### Alexsander Vieira"
      ]
    },
    {
      "cell_type": "markdown",
      "id": "f2a8e40f",
      "metadata": {},
      "source": [
        "Importando as bibliotecas do projeto."
      ]
    },
    {
      "cell_type": "code",
      "execution_count": null,
      "id": "hHgvwivKSQlz",
      "metadata": {
        "id": "hHgvwivKSQlz"
      },
      "outputs": [],
      "source": [
        "import numpy as np\n",
        "import pandas as pd\n",
        "import seaborn as sns\n",
        "import matplotlib.pyplot as plt\n",
        "from sklearn.linear_model import LogisticRegression\n",
        "from sklearn.model_selection import train_test_split\n",
        "from sklearn.preprocessing import PolynomialFeatures\n",
        "from sklearn.metrics import classification_report, confusion_matrix, ConfusionMatrixDisplay\n",
        "from sklearn.metrics import r2_score, mean_absolute_error, mean_squared_error\n",
        "from sklearn.linear_model import LinearRegression\n"
      ]
    },
    {
      "cell_type": "code",
      "execution_count": null,
      "id": "AF_DoJ14SWhL",
      "metadata": {
        "colab": {
          "base_uri": "https://localhost:8080/",
          "height": 206
        },
        "id": "AF_DoJ14SWhL",
        "outputId": "16bba979-bf60-46ba-9f8f-78b7a458724b"
      },
      "outputs": [],
      "source": [
        "df = pd.read_csv('diabetes.csv')\n",
        "\n",
        "df.head()"
      ]
    },
    {
      "cell_type": "code",
      "execution_count": null,
      "id": "GzAEfToDSdlj",
      "metadata": {
        "colab": {
          "base_uri": "https://localhost:8080/"
        },
        "id": "GzAEfToDSdlj",
        "outputId": "8c6c7b37-228e-4a5f-ccd7-079ad3f0bbda"
      },
      "outputs": [],
      "source": [
        "df.info()"
      ]
    },
    {
      "cell_type": "code",
      "execution_count": null,
      "id": "_KgQ3mApSgm6",
      "metadata": {
        "colab": {
          "base_uri": "https://localhost:8080/",
          "height": 364
        },
        "id": "_KgQ3mApSgm6",
        "outputId": "15c29675-f515-4554-80ea-ccbae702c115"
      },
      "outputs": [],
      "source": [
        "df.describe()"
      ]
    },
    {
      "cell_type": "code",
      "execution_count": null,
      "id": "zZpa8A6hSk8K",
      "metadata": {
        "colab": {
          "base_uri": "https://localhost:8080/",
          "height": 297
        },
        "id": "zZpa8A6hSk8K",
        "outputId": "34859d42-6045-49c7-ee5d-0582ef46665c"
      },
      "outputs": [],
      "source": [
        "sns.histplot(df, x=\"Outcome\")"
      ]
    },
    {
      "cell_type": "code",
      "execution_count": null,
      "id": "-JVFAnMTSpsz",
      "metadata": {
        "id": "-JVFAnMTSpsz"
      },
      "outputs": [],
      "source": [
        "df_model = df.select_dtypes(include=np.number)\n",
        "\n",
        "df_model.isnull().sum()\n",
        "\n",
        "X = df_model.drop(columns='Outcome')\n",
        "y = df_model['Outcome']\n"
      ]
    },
    {
      "cell_type": "code",
      "execution_count": null,
      "id": "ud5z1LPeS4Jz",
      "metadata": {
        "colab": {
          "base_uri": "https://localhost:8080/"
        },
        "id": "ud5z1LPeS4Jz",
        "outputId": "0bfae1b7-5002-40bf-97cd-ab0439ad8bac"
      },
      "outputs": [],
      "source": [
        "logit = LogisticRegression()\n",
        "\n",
        "X_train, X_test, y_train, y_test = train_test_split(X, y, test_size=0.3, random_state=42)\n",
        "\n",
        "logit.fit(X_train, y_train)"
      ]
    },
    {
      "cell_type": "code",
      "execution_count": null,
      "id": "esmRPRcxTLby",
      "metadata": {
        "colab": {
          "base_uri": "https://localhost:8080/"
        },
        "id": "esmRPRcxTLby",
        "outputId": "a1ca81ae-88ba-44c1-c97d-07610d1e9871"
      },
      "outputs": [],
      "source": [
        "logit.intercept_"
      ]
    },
    {
      "cell_type": "code",
      "execution_count": null,
      "id": "KrXGBH01TOqi",
      "metadata": {
        "colab": {
          "base_uri": "https://localhost:8080/"
        },
        "id": "KrXGBH01TOqi",
        "outputId": "fabfd551-f74c-4e6b-a640-0eabea4ead9e"
      },
      "outputs": [],
      "source": [
        "X_train.columns.tolist()"
      ]
    },
    {
      "cell_type": "code",
      "execution_count": null,
      "id": "jxCmMFTATQOr",
      "metadata": {
        "colab": {
          "base_uri": "https://localhost:8080/"
        },
        "id": "jxCmMFTATQOr",
        "outputId": "55c7ba3e-15bd-4b6f-cfb4-1c46c1987588"
      },
      "outputs": [],
      "source": [
        "logit.coef_"
      ]
    },
    {
      "cell_type": "code",
      "execution_count": null,
      "id": "ULZ6OIpTTUVD",
      "metadata": {
        "colab": {
          "base_uri": "https://localhost:8080/",
          "height": 423
        },
        "id": "ULZ6OIpTTUVD",
        "outputId": "7526121a-8116-4dbc-d916-a84ac7916671"
      },
      "outputs": [],
      "source": [
        "X_test"
      ]
    },
    {
      "cell_type": "code",
      "execution_count": null,
      "id": "rlBrWpILTXML",
      "metadata": {
        "colab": {
          "base_uri": "https://localhost:8080/"
        },
        "id": "rlBrWpILTXML",
        "outputId": "195054b1-9427-4cc7-e84e-df910069178b"
      },
      "outputs": [],
      "source": [
        "y_test"
      ]
    },
    {
      "cell_type": "code",
      "execution_count": null,
      "id": "S30K35cQTZjb",
      "metadata": {
        "id": "S30K35cQTZjb"
      },
      "outputs": [],
      "source": [
        "y_predict = logit.predict(X_test)"
      ]
    },
    {
      "cell_type": "code",
      "execution_count": null,
      "id": "TS0oxbiiTbpF",
      "metadata": {
        "colab": {
          "base_uri": "https://localhost:8080/"
        },
        "id": "TS0oxbiiTbpF",
        "outputId": "4d7d2d3a-806a-4197-d81b-419db49f9fba"
      },
      "outputs": [],
      "source": [
        "y_predict[:50]"
      ]
    },
    {
      "cell_type": "code",
      "execution_count": null,
      "id": "v1jRq0hDTdTb",
      "metadata": {
        "colab": {
          "base_uri": "https://localhost:8080/"
        },
        "id": "v1jRq0hDTdTb",
        "outputId": "84981fc8-df5b-49b8-a543-01ae630e4a34"
      },
      "outputs": [],
      "source": [
        "y_test[:50]"
      ]
    },
    {
      "cell_type": "code",
      "execution_count": null,
      "id": "xyTYFZaITsid",
      "metadata": {
        "colab": {
          "base_uri": "https://localhost:8080/",
          "height": 1000
        },
        "id": "xyTYFZaITsid",
        "outputId": "8b1f8659-5750-4f2c-ac40-d7d9c71b959c"
      },
      "outputs": [],
      "source": [
        "# verificando os coeficientes\n",
        "print(\"Coeficientes:\\n\", logit.coef_)\n",
        "print(\"\\nIntercept:\", logit.intercept_)\n",
        "\n",
        "# dê uma olhada nas classes do modelo\n",
        "classes =  logit.classes_\n",
        "print(\"\\nClasses:\", classes)\n",
        "\n",
        "# 5) probabilidades das previsões\n",
        "probs = logit.predict_proba(X_test)\n",
        "print(\"\\nProbabilidades:\", probs)\n",
        "\n",
        "# probabilidade de pertencimento à classe 1\n",
        "probs_1 = probs[:, 1]\n",
        "print(\"\\nProbabilidades Classe 1:\", probs_1)\n",
        "\n",
        "# avaliação  do modelo\n",
        "\n",
        "# cutoffs\n",
        "threshold_list = [0.05, 0.1, 0.2, 0.3, 0.4, 0.5, 0.6, 0.7, 0.8, 0.9, 0.95]\n",
        "\n",
        "print(\"\\n###################################################\\n\")\n",
        "print(\"Avaliação de modelos com diferentes valores de cutoff\")\n",
        "print(\"\\n###################################################\\n\")\n",
        "\n",
        "for threshold in threshold_list:\n",
        "    \n",
        "    print(\"\\n Cutoff:\", threshold)\n",
        "    \n",
        "    # previsões\n",
        "    y_pred = np.where(probs_1 >= threshold, 1, 0)\n",
        "\n",
        "    print(\"\\nMatriz de confusão do modelo nos dados de teste:\")\n",
        "    print(confusion_matrix(y_test, y_pred))\n",
        "    \n",
        "    ConfusionMatrixDisplay.from_predictions(y_test, y_pred, cmap=\"viridis\")\n",
        "    plt.show()\n",
        "\n",
        "    print(\"\\nClassification report do modelo nos dados de teste:\")\n",
        "    print(classification_report(y_test, y_pred))\n",
        "    \n",
        "    print(\"\\n##########################################################\\n\")"
      ]
    },
    {
      "cell_type": "markdown",
      "id": "EIwDgrLGT2Ob",
      "metadata": {
        "id": "EIwDgrLGT2Ob"
      },
      "source": [
        "## PRIMEIRAS RESPOSTAS E CONCLUSÕES:\n",
        "\n",
        "### 1 - O cutoff de 0.6 é o que retorna a maior acurácia = 0.76;\n",
        "### 2 - o cutoff de 0.5 é o que retorna o mesmo valor de precision e recall;\n",
        "### 3 - Os valores são de 0.8 para o outcome 0 e 0.62 para o outcome."
      ]
    },
    {
      "cell_type": "code",
      "execution_count": null,
      "id": "ptVBztOHUNh6",
      "metadata": {
        "colab": {
          "base_uri": "https://localhost:8080/"
        },
        "id": "ptVBztOHUNh6",
        "outputId": "a567e06a-0f74-456a-f40a-2c10503bf03b"
      },
      "outputs": [],
      "source": [
        "# criando features polinomiais\n",
        "# pra deixar a hipotese mais complexa (regressão linear em espaço polinomial)\n",
        "\n",
        "pf = PolynomialFeatures(degree=2, include_bias=False)\n",
        "\n",
        "# fit nos dados de treino\n",
        "pf.fit(X_train)\n",
        "\n",
        "print(f\"Número original de features: {pf.n_features_in_}\")\n",
        "print(f\"Número de features no espaço transformado: {pf.n_output_features_}\\n\\n\")\n",
        "\n",
        "# redefinindo as features de treino e de teste\n",
        "X_train = pf.transform(X_train)\n",
        "X_test = pf.transform(X_test)\n",
        "\n",
        "# ======================================\n",
        "\n",
        "reg_lin = LinearRegression()\n",
        "\n",
        "# ======================================\n",
        "\n",
        "reg_lin.fit(X_train, y_train)\n",
        "\n",
        "print(f\"Intercepto (b0): {reg_lin.intercept_}\")\n",
        "print(f\"Demais parâmetros (b1, ..., bn): {reg_lin.coef_}\")\n",
        "\n",
        "# ======================================\n",
        "\n",
        "# predições de treino\n",
        "y_pred_train = reg_lin.predict(X_train)\n",
        "\n",
        "print(\"\\nMétricas de treino:\\n\")\n",
        "print(f\"R^2: {r2_score(y_train, y_pred_train):.2f}\")\n",
        "print(f\"MAE: {mean_absolute_error(y_train, y_pred_train):.2f}\")\n",
        "print(f\"RMSE: {np.sqrt(mean_squared_error(y_train, y_pred_train)):.2f}\")\n",
        "\n",
        "# predições de teste\n",
        "y_pred_test = reg_lin.predict(X_test)\n",
        "\n",
        "print(\"\\nMétricas de teste:\\n\")\n",
        "print(f\"R^2: {r2_score(y_test, y_pred_test):.2f}\")\n",
        "print(f\"MAE: {mean_absolute_error(y_test, y_pred_test):.2f}\")\n",
        "print(f\"RMSE: {np.sqrt(mean_squared_error(y_test, y_pred_test)):.2f}\")"
      ]
    }
  ],
  "metadata": {
    "colab": {
      "provenance": []
    },
    "kernelspec": {
      "display_name": "Python 3.10.6 64-bit",
      "language": "python",
      "name": "python3"
    },
    "language_info": {
      "codemirror_mode": {
        "name": "ipython",
        "version": 3
      },
      "file_extension": ".py",
      "mimetype": "text/x-python",
      "name": "python",
      "nbconvert_exporter": "python",
      "pygments_lexer": "ipython3",
      "version": "3.10.6"
    },
    "vscode": {
      "interpreter": {
        "hash": "916dbcbb3f70747c44a77c7bcd40155683ae19c65e1c03b4aa3499c5328201f1"
      }
    }
  },
  "nbformat": 4,
  "nbformat_minor": 5
}
