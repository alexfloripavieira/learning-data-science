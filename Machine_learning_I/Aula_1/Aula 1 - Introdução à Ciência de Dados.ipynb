{
 "cells": [
  {
   "cell_type": "markdown",
   "metadata": {},
   "source": [
    "# Aula 1 - Introdução à Ciência de Dados"
   ]
  },
  {
   "cell_type": "markdown",
   "metadata": {},
   "source": [
    "Nessa aula, iremos tratar dos seguintes conteúdos:\n",
    "- O que vocês entendem por Ciência de Dados?\n",
    "- O que é Ciência de Dados?\n",
    "- Como é desenvolvido um Projeto em Ciência de Dados?\n",
    "- Onde a Ciência de Dados encontra a Inteligência Artificial?\n",
    "    - Machine Learning\n",
    "    - NLP\n",
    "    - Deep Learning\n",
    "- Quais são as carreiras dentro da Ciência de Dados?"
   ]
  },
  {
   "cell_type": "markdown",
   "metadata": {},
   "source": [
    "<img src=\"https://www.univem.edu.br/storage/posts/September2019/Arte%20C%20Dados%20Corte.jpg\" width=800>"
   ]
  },
  {
   "cell_type": "markdown",
   "metadata": {},
   "source": [
    "##   "
   ]
  },
  {
   "cell_type": "markdown",
   "metadata": {},
   "source": [
    "## O que vocês entendem por Ciência de Dados / Data Science ?"
   ]
  },
  {
   "cell_type": "markdown",
   "metadata": {},
   "source": [
    "A Ciência de Dados é uma das área mais em alta no mercado de trabalho nos últimos anos, mas o que justamente __ela estuda ?__<br><br>\n",
    "\n",
    "Com os avanços tecnológicos, diariamente __são gerados uma infinidade de dados__, seja por meio de Apps, Bancos, Rede Sociais, _Streamings_ e diversos outros meios. Esses dados __podem ser uma fonte rica de informação__, informações essas que normalmente __dizem alguma coisa para a gente.__<br><br>\n",
    "\n",
    "Pode parecer um pouco filosófico, mas vamos a alguns exemplos:\n",
    "- Saber que pessoas que assistiram em um serviço de _Streaming_ algum dos filmes de Star Wars, também assistem filmes de super-heróis e ficção científica __é um bom insight para uma recomendação de filmes;__\n",
    "- Saber que pessoas que nos últimos 3 meses pagaram o mínimo da fatura do cartão crédito ou usaram quase todo o limite do cheque especial podem estar mais propensas a não pagar as próximas contas __é uma ótima informação para tentar detectar potenciais devedores;__\n",
    "<br><br>\n",
    "\n",
    "Esses são alguns exemplos do tipo de informação que podemos obter __estudando os dados de comportamento de clientes, empresas ou até mesmo mercados.__"
   ]
  },
  {
   "cell_type": "markdown",
   "metadata": {},
   "source": [
    "##  "
   ]
  },
  {
   "cell_type": "markdown",
   "metadata": {},
   "source": [
    "## O que é a Ciência de Dados?"
   ]
  },
  {
   "cell_type": "markdown",
   "metadata": {},
   "source": [
    "É nesse ponto que entra a Ciência de Dados, ou mais comumente chamada de __Data Science:__\n",
    "<br>\n",
    "<br>\n",
    "> __Data Science__ é o conjunto de técnicas e ferramentas que utilizamos para estudar os __dados!__\n",
    "\n",
    "<br>"
   ]
  },
  {
   "cell_type": "markdown",
   "metadata": {},
   "source": [
    "A Ciência de dados é uma área interdisciplinar, então para ser um __bom profissional na área__ precisa-se ter conhecimentos nos 3 principais pilares da área que são: __Programação__, __Estatística__ e __Conhecimento de Negócios.__\n",
    "\n",
    "<br><br>\n",
    "\n",
    "<img src=\"https://s3.amazonaws.com/uploads.hotmart.com/blog/2018/04/data-science-1.png\" width=1000>"
   ]
  },
  {
   "cell_type": "markdown",
   "metadata": {},
   "source": [
    "Vamos detalhar um pouco mais o papel de cada um desses pilares:\n",
    "<br><br>\n",
    "\n",
    "> __Estatística e Matemnática:__ Justamente é onde vamos buscar as melhores ferramentas e técnicas para extrair o máximo de informação dos nossos dados, seja usando regressões, teste de hipóteses, modelos probabilísticos e outras diversas ferramentas;\n",
    "\n",
    "<br><br>\n",
    "> __Computação e Programação:___ É o braço de suporte do Cientista de Dados, a programação que vai ajudar a podermos trabalhar com uma quantidade enorme de dados que demandam cálculos muito complexo e que o computador nos ajudará a fazer isso rapidamente!;\n",
    "\n",
    "<br><br>\n",
    "> __Conheicmento do Negócio:__ Por fim, mas na minha opinião o mais importante é __saber o porque eu quero desenvolver um estudo/projeto/modelo e/ou que tipo de problema de negócio que estou querendo resolver?__. Fazer a ponte entre o _business_ e a tecnologia, para que tenha algum tipo de resultado ou impacto para o seu negócio!"
   ]
  },
  {
   "cell_type": "markdown",
   "metadata": {},
   "source": [
    "##   "
   ]
  },
  {
   "cell_type": "markdown",
   "metadata": {},
   "source": [
    "## Como é desenvolvido um Projeto de Ciência de Dados?"
   ]
  },
  {
   "cell_type": "markdown",
   "metadata": {},
   "source": [
    "Cada __projeto de Ciência de Dados__ é único, contendo suas particularidades e especificidades de acordo com o __tipo de problema que você busca resolver__.\n",
    "\n",
    "<br>\n",
    "\n",
    "Apesar disso, um projeto de Ciência de Dados é muito comum que passe por boa parte (senão todas elas) das seguintes etapas:\n",
    "\n",
    "- __Etapa 1__ - Formulação do Problema de Negócio;\n",
    "- __Etapa 2__ - Ingestão e Extração dos Dados;\n",
    "- __Etapa 3__ - Preparação dos Dados;\n",
    "- __Etapa 4__ - Análise Exploratória dos Dados;\n",
    "\n",
    "Estas etapas são muito importantes para garantir a qualidade dos dados. Com dados ruins, teremos tomadas de decisão ruins\n",
    "\n",
    "- __Etapa 5__ - Modelagem;\n",
    "- __Etapa 6__ - Validação do Modelo;\n",
    "- __Etapa 7__ - Resultado e Impacto de Negócio;\n",
    "- __Etapa 8__ - Produtização (_Deployment_).\n",
    "\n",
    "<img src=\"https://www.researchgate.net/profile/Eduardo_Garcia_Del_Valle/publication/327612291/figure/fig4/AS:670200676511747@1536799701256/Sequence-of-functional-units-of-a-data-science-pipeline-including-data.ppm\" width=700>\n",
    "\n",
    "<br>\n",
    "\n",
    "Neste curso, será focado principalmente na __resolução técnica do problema__ focando entre as __Etapas 2 e 6__. Ou seja, dado que sabemos o problema que queremos resolver, __quais e como são as etapas para desenvolvermos o projeto.__\n",
    "\n",
    "<img src=\"https://www.xtivia.com/media/Data_Science_Pipeline.png\" width=700>\n",
    "\n",
    "<br>\n",
    "\n",
    "Alguns casos serão mostrados também como __levantar um impacto de negócio ou financeiro para um modelo__, para termos uma noção de como fazer isso, mas essa etapa está intrinsecamente relacionada ao problema de negócio que vamos resolver!\n",
    "\n",
    "A etapa de __Produtização__ ou também conhecida como _Deployment_, foge um pouco do escopo do nosso curso, mas esta etapa basicamente foca em dado que temos um modelo para resolver algum problema, como vamos acompanhá-lo em tempo real e como saber quando esse modelo precisa de alguma manutenção ou mesmo ser substituído.\n",
    "\n",
    "<br>\n",
    "\n",
    "<img src=\"https://image.slidesharecdn.com/wikujib2qoecc5r7vb7f-signature-87404360c94bb2c35661cdc792a68a5997906369b9fee3d51c5556b0e68e8418-poli-150724043821-lva1-app6891/95/production-and-beyond-deploying-and-managing-machine-learning-models-3-638.jpg?cb=1442685173\" width=800>\n"
   ]
  },
  {
   "cell_type": "markdown",
   "metadata": {},
   "source": [
    "<ing src=\"https://image.slidesharecdn.com/wikujib2qoecc5r7vb7f-signature-87404360c94bb2c35661cdc792a68a5997906369b9fee3d51c5556b0e68e8418-poli-150724043821-lva1-app6891/95/production-and-beyond-deploying-and-managing-machine-learning-models-3-638.jpg?cb=1442685173\" width=800>"
   ]
  },
  {
   "cell_type": "markdown",
   "metadata": {},
   "source": [
    "##   "
   ]
  },
  {
   "cell_type": "markdown",
   "metadata": {},
   "source": [
    "## Onde a Ciência de Dados encontra com a Inteligência Artificial"
   ]
  },
  {
   "cell_type": "markdown",
   "metadata": {},
   "source": [
    "A __Inteligência Artificial__ é a área que estuda sistemas computacionais **capazes de realizar de forma autônoma tarefas que normalmente exigiriam interferência ou ação humana.** E justamente nesse ponto, que a AI vai ser extremamente importante para a resolução da maioria dos problemas de Ciência de Dados, trazendo uma gama diversa de ferramentas para ajudar não só no processamento mas também na inteligência e interpretabilidade dos dados.\n",
    "\n",
    "<br>\n",
    "\n",
    "Abaixo vamos ver algumas das diversas aplicações de Inteligência Artificial:\n",
    "\n",
    "<img src=\"https://www.researchgate.net/profile/Ma_Louella_Salenga/publication/324183626/figure/fig1/AS:611807588798464@1522877704466/Fields-of-artificial-intelligence-10.png\" width=650>\n",
    "\n",
    "<br>\n",
    "\n",
    "Neste curso, abordaremos justamente as áreas de __Machine Learning__, __NLP__ e __Deep Learning__:\n",
    "\n",
    "<br>\n",
    "\n",
    "<img src=\"https://qph.fs.quoracdn.net/main-qimg-c40865291122af3a2b49cc52f04ef773\">\n",
    "\n",
    "<br>\n",
    "<br>\n",
    "\n",
    "#### Aprendizado de Máquina (Machine Learning):\n",
    "\n",
    "<br>\n",
    "\n",
    "<img src=\"https://i.pinimg.com/originals/67/70/5d/67705d8c7aee0c6b601c16548076e924.png\" width=700>\n",
    "\n",
    "<br>\n",
    "\n",
    "#### Processamento de Linguagem Natural (NLP):\n",
    "\n",
    "<br>\n",
    "\n",
    "<img src=\"https://www.cybiant.com/wp-content/uploads/2020/01/CKC-Natural-Language-Processing.png\" width=650>\n",
    "\n",
    "<br>\n",
    "\n",
    "#### Apredizagem Profunda (Deep Learning):\n",
    "\n",
    "<br>\n",
    "\n",
    "<img src=\"https://i2.wp.com/semiengineering.com/wp-content/uploads/2018/01/MLvsDL.png?resize=733%2C405&ssl=1\" width=650>"
   ]
  },
  {
   "cell_type": "markdown",
   "metadata": {},
   "source": [
    "##   "
   ]
  },
  {
   "cell_type": "markdown",
   "metadata": {},
   "source": [
    "## Quais são as carreiras dentro da Ciência de Dados?"
   ]
  },
  {
   "cell_type": "markdown",
   "metadata": {},
   "source": [
    "Agora olhando para dentro da área de Ciência de Dados, temos diversos tipos de carreiras para seguir com as suas particularidades de conhecimentos. Vamos falar sobre algumas delas olhando pela figura a seguir:\n",
    "\n",
    "<br>\n",
    "\n",
    "<img src=\"https://1onjea25cyhx3uvxgs4vu325-wpengine.netdna-ssl.com/wp-content/uploads/2014/11/Data-Science-Skills-Udacity-Matrix.png\" width=600>"
   ]
  },
  {
   "cell_type": "markdown",
   "metadata": {},
   "source": [
    "##   "
   ]
  },
  {
   "cell_type": "markdown",
   "metadata": {},
   "source": [
    "## Links, Artigos e Referências:"
   ]
  },
  {
   "cell_type": "markdown",
   "metadata": {},
   "source": [
    "- [\"Como ser Data Scientist no Brasil?\"](https://paulovasconcellos.com.br/como-ser-um-data-scientist-no-brasil-1b9c0485ca90), artigo escrito pelo Paulo Vasconcellos do Data Hackers;\n",
    "- [Site do Data Hackers](https://datahackers.com.br/), maior comunidade sobre Data Science no Brasil;\n",
    "- [Medium](https://medium.com/), site com diversos artigos a respeito de Data Science, Machine Learning e muitos outros tópicos;\n",
    "- [Blog do Analytics Vidhya](https://medium.com/analytics-vidhya) no Medium;\n",
    "- [Blog do Towards Data Science](https://towardsdatascience.com/) no Medium;\n",
    "- [\"Você sabe o que é Data Science?\"](https://medium.com/xnewdata-portugal/voc%C3%AA-sabe-o-que-%C3%A9-ci%C3%AAncia-de-dados-ff5da29abb92), artigo escrito pelo José Antônio Ribeiro Neto no Medium.\n",
    "- [Kaggle](https://www.kaggle.com/c/titanic);"
   ]
  },
  {
   "cell_type": "code",
   "execution_count": 4,
   "metadata": {},
   "outputs": [
    {
     "name": "stdout",
     "output_type": "stream",
     "text": [
      "Defaulting to user installation because normal site-packages is not writeable\n",
      "Requirement already satisfied: pandas in c:\\program files\\python39\\lib\\site-packages (1.3.3)\n",
      "Requirement already satisfied: numpy>=1.17.3 in c:\\program files\\python39\\lib\\site-packages (from pandas) (1.21.2)\n",
      "Requirement already satisfied: python-dateutil>=2.7.3 in c:\\program files\\python39\\lib\\site-packages (from pandas) (2.8.2)\n",
      "Requirement already satisfied: pytz>=2017.3 in c:\\program files\\python39\\lib\\site-packages (from pandas) (2021.1)\n",
      "Requirement already satisfied: six>=1.5 in c:\\program files\\python39\\lib\\site-packages (from python-dateutil>=2.7.3->pandas) (1.16.0)\n"
     ]
    },
    {
     "name": "stderr",
     "output_type": "stream",
     "text": [
      "WARNING: You are using pip version 21.1.3; however, version 22.0.2 is available.\n",
      "You should consider upgrading via the 'c:\\program files\\python39\\python.exe -m pip install --upgrade pip' command.\n"
     ]
    },
    {
     "name": "stdout",
     "output_type": "stream",
     "text": [
      "Defaulting to user installation because normal site-packages is not writeable"
     ]
    },
    {
     "name": "stderr",
     "output_type": "stream",
     "text": [
      "WARNING: You are using pip version 21.1.3; however, version 22.0.2 is available.\n",
      "You should consider upgrading via the 'c:\\program files\\python39\\python.exe -m pip install --upgrade pip' command.\n"
     ]
    },
    {
     "name": "stdout",
     "output_type": "stream",
     "text": [
      "\n",
      "Requirement already satisfied: numpy in c:\\program files\\python39\\lib\\site-packages (1.21.2)\n",
      "Defaulting to user installation because normal site-packages is not writeable\n",
      "Requirement already satisfied: matplotlib in c:\\users\\inspira\\appdata\\roaming\\python\\python39\\site-packages (3.5.0)\n",
      "Requirement already satisfied: python-dateutil>=2.7 in c:\\program files\\python39\\lib\\site-packages (from matplotlib) (2.8.2)\n",
      "Requirement already satisfied: setuptools-scm>=4 in c:\\users\\inspira\\appdata\\roaming\\python\\python39\\site-packages (from matplotlib) (6.3.2)\n",
      "Requirement already satisfied: packaging>=20.0 in c:\\program files\\python39\\lib\\site-packages (from matplotlib) (21.0)\n",
      "Requirement already satisfied: numpy>=1.17 in c:\\program files\\python39\\lib\\site-packages (from matplotlib) (1.21.2)\n",
      "Requirement already satisfied: kiwisolver>=1.0.1 in c:\\users\\inspira\\appdata\\roaming\\python\\python39\\site-packages (from matplotlib) (1.3.2)\n",
      "Requirement already satisfied: cycler>=0.10 in c:\\users\\inspira\\appdata\\roaming\\python\\python39\\site-packages (from matplotlib) (0.11.0)\n",
      "Requirement already satisfied: fonttools>=4.22.0 in c:\\users\\inspira\\appdata\\roaming\\python\\python39\\site-packages (from matplotlib) (4.28.2)\n",
      "Requirement already satisfied: pillow>=6.2.0 in c:\\users\\inspira\\appdata\\roaming\\python\\python39\\site-packages (from matplotlib) (8.4.0)\n",
      "Requirement already satisfied: pyparsing>=2.2.1 in c:\\program files\\python39\\lib\\site-packages (from matplotlib) (2.4.7)\n",
      "Requirement already satisfied: six>=1.5 in c:\\program files\\python39\\lib\\site-packages (from python-dateutil>=2.7->matplotlib) (1.16.0)\n",
      "Requirement already satisfied: tomli>=1.0.0 in c:\\users\\inspira\\appdata\\roaming\\python\\python39\\site-packages (from setuptools-scm>=4->matplotlib) (1.2.2)\n",
      "Requirement already satisfied: setuptools in c:\\program files\\python39\\lib\\site-packages (from setuptools-scm>=4->matplotlib) (56.0.0)\n"
     ]
    },
    {
     "name": "stderr",
     "output_type": "stream",
     "text": [
      "WARNING: You are using pip version 21.1.3; however, version 22.0.2 is available.\n",
      "You should consider upgrading via the 'c:\\program files\\python39\\python.exe -m pip install --upgrade pip' command.\n"
     ]
    },
    {
     "name": "stdout",
     "output_type": "stream",
     "text": [
      "Defaulting to user installation because normal site-packages is not writeable\n",
      "Requirement already satisfied: seaborn in c:\\users\\inspira\\appdata\\roaming\\python\\python39\\site-packages (0.11.2)\n",
      "Requirement already satisfied: scipy>=1.0 in c:\\users\\inspira\\appdata\\roaming\\python\\python39\\site-packages (from seaborn) (1.7.3)\n",
      "Requirement already satisfied: pandas>=0.23 in c:\\program files\\python39\\lib\\site-packages (from seaborn) (1.3.3)\n",
      "Requirement already satisfied: matplotlib>=2.2 in c:\\users\\inspira\\appdata\\roaming\\python\\python39\\site-packages (from seaborn) (3.5.0)\n",
      "Requirement already satisfied: numpy>=1.15 in c:\\program files\\python39\\lib\\site-packages (from seaborn) (1.21.2)\n",
      "Requirement already satisfied: fonttools>=4.22.0 in c:\\users\\inspira\\appdata\\roaming\\python\\python39\\site-packages (from matplotlib>=2.2->seaborn) (4.28.2)\n",
      "Requirement already satisfied: python-dateutil>=2.7 in c:\\program files\\python39\\lib\\site-packages (from matplotlib>=2.2->seaborn) (2.8.2)\n",
      "Requirement already satisfied: kiwisolver>=1.0.1 in c:\\users\\inspira\\appdata\\roaming\\python\\python39\\site-packages (from matplotlib>=2.2->seaborn) (1.3.2)\n",
      "Requirement already satisfied: cycler>=0.10 in c:\\users\\inspira\\appdata\\roaming\\python\\python39\\site-packages (from matplotlib>=2.2->seaborn) (0.11.0)\n",
      "Requirement already satisfied: pyparsing>=2.2.1 in c:\\program files\\python39\\lib\\site-packages (from matplotlib>=2.2->seaborn) (2.4.7)\n",
      "Requirement already satisfied: setuptools-scm>=4 in c:\\users\\inspira\\appdata\\roaming\\python\\python39\\site-packages (from matplotlib>=2.2->seaborn) (6.3.2)\n",
      "Requirement already satisfied: pillow>=6.2.0 in c:\\users\\inspira\\appdata\\roaming\\python\\python39\\site-packages (from matplotlib>=2.2->seaborn) (8.4.0)\n",
      "Requirement already satisfied: packaging>=20.0 in c:\\program files\\python39\\lib\\site-packages (from matplotlib>=2.2->seaborn) (21.0)\n",
      "Requirement already satisfied: pytz>=2017.3 in c:\\program files\\python39\\lib\\site-packages (from pandas>=0.23->seaborn) (2021.1)\n",
      "Requirement already satisfied: six>=1.5 in c:\\program files\\python39\\lib\\site-packages (from python-dateutil>=2.7->matplotlib>=2.2->seaborn) (1.16.0)\n",
      "Requirement already satisfied: setuptools in c:\\program files\\python39\\lib\\site-packages (from setuptools-scm>=4->matplotlib>=2.2->seaborn) (56.0.0)\n",
      "Requirement already satisfied: tomli>=1.0.0 in c:\\users\\inspira\\appdata\\roaming\\python\\python39\\site-packages (from setuptools-scm>=4->matplotlib>=2.2->seaborn) (1.2.2)\n"
     ]
    },
    {
     "name": "stderr",
     "output_type": "stream",
     "text": [
      "WARNING: You are using pip version 21.1.3; however, version 22.0.2 is available.\n",
      "You should consider upgrading via the 'c:\\program files\\python39\\python.exe -m pip install --upgrade pip' command.\n"
     ]
    },
    {
     "name": "stdout",
     "output_type": "stream",
     "text": [
      "Defaulting to user installation because normal site-packages is not writeable\n",
      "Requirement already satisfied: sklearn in c:\\users\\inspira\\appdata\\roaming\\python\\python39\\site-packages (0.0)\n",
      "Requirement already satisfied: scikit-learn in c:\\users\\inspira\\appdata\\roaming\\python\\python39\\site-packages (from sklearn) (1.0.2)\n",
      "Requirement already satisfied: threadpoolctl>=2.0.0 in c:\\users\\inspira\\appdata\\roaming\\python\\python39\\site-packages (from scikit-learn->sklearn) (3.1.0)\n",
      "Requirement already satisfied: joblib>=0.11 in c:\\users\\inspira\\appdata\\roaming\\python\\python39\\site-packages (from scikit-learn->sklearn) (1.1.0)\n",
      "Requirement already satisfied: numpy>=1.14.6 in c:\\program files\\python39\\lib\\site-packages (from scikit-learn->sklearn) (1.21.2)\n",
      "Requirement already satisfied: scipy>=1.1.0 in c:\\users\\inspira\\appdata\\roaming\\python\\python39\\site-packages (from scikit-learn->sklearn) (1.7.3)\n"
     ]
    },
    {
     "name": "stderr",
     "output_type": "stream",
     "text": [
      "WARNING: You are using pip version 21.1.3; however, version 22.0.2 is available.\n",
      "You should consider upgrading via the 'c:\\program files\\python39\\python.exe -m pip install --upgrade pip' command.\n"
     ]
    },
    {
     "name": "stdout",
     "output_type": "stream",
     "text": [
      "Defaulting to user installation because normal site-packages is not writeable\n",
      "Requirement already satisfied: keras in c:\\users\\inspira\\appdata\\roaming\\python\\python39\\site-packages (2.7.0)\n"
     ]
    },
    {
     "name": "stderr",
     "output_type": "stream",
     "text": [
      "WARNING: You are using pip version 21.1.3; however, version 22.0.2 is available.\n",
      "You should consider upgrading via the 'c:\\program files\\python39\\python.exe -m pip install --upgrade pip' command.\n"
     ]
    },
    {
     "name": "stdout",
     "output_type": "stream",
     "text": [
      "Defaulting to user installation because normal site-packages is not writeable\n",
      "Requirement already satisfied: tensorflow in c:\\users\\inspira\\appdata\\roaming\\python\\python39\\site-packages (2.7.0)\n",
      "Requirement already satisfied: astunparse>=1.6.0 in c:\\users\\inspira\\appdata\\roaming\\python\\python39\\site-packages (from tensorflow) (1.6.3)\n",
      "Requirement already satisfied: six>=1.12.0 in c:\\program files\\python39\\lib\\site-packages (from tensorflow) (1.16.0)\n",
      "Requirement already satisfied: protobuf>=3.9.2 in c:\\users\\inspira\\appdata\\roaming\\python\\python39\\site-packages (from tensorflow) (3.19.4)\n",
      "Requirement already satisfied: absl-py>=0.4.0 in c:\\users\\inspira\\appdata\\roaming\\python\\python39\\site-packages (from tensorflow) (1.0.0)\n",
      "Requirement already satisfied: flatbuffers<3.0,>=1.12 in c:\\users\\inspira\\appdata\\roaming\\python\\python39\\site-packages (from tensorflow) (2.0)\n",
      "Requirement already satisfied: h5py>=2.9.0 in c:\\users\\inspira\\appdata\\roaming\\python\\python39\\site-packages (from tensorflow) (3.6.0)\n",
      "Requirement already satisfied: tensorflow-io-gcs-filesystem>=0.21.0 in c:\\users\\inspira\\appdata\\roaming\\python\\python39\\site-packages (from tensorflow) (0.23.1)\n",
      "Requirement already satisfied: grpcio<2.0,>=1.24.3 in c:\\users\\inspira\\appdata\\roaming\\python\\python39\\site-packages (from tensorflow) (1.43.0)\n",
      "Requirement already satisfied: libclang>=9.0.1 in c:\\users\\inspira\\appdata\\roaming\\python\\python39\\site-packages (from tensorflow) (13.0.0)\n",
      "Requirement already satisfied: numpy>=1.14.5 in c:\\program files\\python39\\lib\\site-packages (from tensorflow) (1.21.2)\n",
      "Requirement already satisfied: termcolor>=1.1.0 in c:\\users\\inspira\\appdata\\roaming\\python\\python39\\site-packages (from tensorflow) (1.1.0)\n",
      "Requirement already satisfied: keras<2.8,>=2.7.0rc0 in c:\\users\\inspira\\appdata\\roaming\\python\\python39\\site-packages (from tensorflow) (2.7.0)\n",
      "Requirement already satisfied: tensorboard~=2.6 in c:\\users\\inspira\\appdata\\roaming\\python\\python39\\site-packages (from tensorflow) (2.8.0)\n",
      "Requirement already satisfied: typing-extensions>=3.6.6 in c:\\users\\inspira\\appdata\\roaming\\python\\python39\\site-packages (from tensorflow) (4.0.1)\n",
      "Requirement already satisfied: gast<0.5.0,>=0.2.1 in c:\\users\\inspira\\appdata\\roaming\\python\\python39\\site-packages (from tensorflow) (0.4.0)\n",
      "Requirement already satisfied: wheel<1.0,>=0.32.0 in c:\\users\\inspira\\appdata\\roaming\\python\\python39\\site-packages (from tensorflow) (0.37.1)\n",
      "Requirement already satisfied: opt-einsum>=2.3.2 in c:\\users\\inspira\\appdata\\roaming\\python\\python39\\site-packages (from tensorflow) (3.3.0)\n",
      "Requirement already satisfied: wrapt>=1.11.0 in c:\\users\\inspira\\appdata\\roaming\\python\\python39\\site-packages (from tensorflow) (1.13.3)\n",
      "Requirement already satisfied: keras-preprocessing>=1.1.1 in c:\\users\\inspira\\appdata\\roaming\\python\\python39\\site-packages (from tensorflow) (1.1.2)\n",
      "Requirement already satisfied: google-pasta>=0.1.1 in c:\\users\\inspira\\appdata\\roaming\\python\\python39\\site-packages (from tensorflow) (0.2.0)\n",
      "Requirement already satisfied: tensorflow-estimator<2.8,~=2.7.0rc0 in c:\\users\\inspira\\appdata\\roaming\\python\\python39\\site-packages (from tensorflow) (2.7.0)\n",
      "Requirement already satisfied: setuptools>=41.0.0 in c:\\program files\\python39\\lib\\site-packages (from tensorboard~=2.6->tensorflow) (56.0.0)\n",
      "Requirement already satisfied: tensorboard-data-server<0.7.0,>=0.6.0 in c:\\users\\inspira\\appdata\\roaming\\python\\python39\\site-packages (from tensorboard~=2.6->tensorflow) (0.6.1)\n",
      "Requirement already satisfied: tensorboard-plugin-wit>=1.6.0 in c:\\users\\inspira\\appdata\\roaming\\python\\python39\\site-packages (from tensorboard~=2.6->tensorflow) (1.8.1)\n",
      "Requirement already satisfied: google-auth<3,>=1.6.3 in c:\\users\\inspira\\appdata\\roaming\\python\\python39\\site-packages (from tensorboard~=2.6->tensorflow) (2.6.0)\n",
      "Requirement already satisfied: requests<3,>=2.21.0 in c:\\program files\\python39\\lib\\site-packages (from tensorboard~=2.6->tensorflow) (2.26.0)\n",
      "Requirement already satisfied: werkzeug>=0.11.15 in c:\\users\\inspira\\appdata\\roaming\\python\\python39\\site-packages (from tensorboard~=2.6->tensorflow) (2.0.2)\n",
      "Requirement already satisfied: google-auth-oauthlib<0.5,>=0.4.1 in c:\\users\\inspira\\appdata\\roaming\\python\\python39\\site-packages (from tensorboard~=2.6->tensorflow) (0.4.6)\n",
      "Requirement already satisfied: markdown>=2.6.8 in c:\\users\\inspira\\appdata\\roaming\\python\\python39\\site-packages (from tensorboard~=2.6->tensorflow) (3.3.6)\n",
      "Requirement already satisfied: cachetools<6.0,>=2.0.0 in c:\\users\\inspira\\appdata\\roaming\\python\\python39\\site-packages (from google-auth<3,>=1.6.3->tensorboard~=2.6->tensorflow) (5.0.0)\n",
      "Requirement already satisfied: pyasn1-modules>=0.2.1 in c:\\users\\inspira\\appdata\\roaming\\python\\python39\\site-packages (from google-auth<3,>=1.6.3->tensorboard~=2.6->tensorflow) (0.2.8)\n",
      "Requirement already satisfied: rsa<5,>=3.1.4 in c:\\users\\inspira\\appdata\\roaming\\python\\python39\\site-packages (from google-auth<3,>=1.6.3->tensorboard~=2.6->tensorflow) (4.8)\n",
      "Requirement already satisfied: requests-oauthlib>=0.7.0 in c:\\users\\inspira\\appdata\\roaming\\python\\python39\\site-packages (from google-auth-oauthlib<0.5,>=0.4.1->tensorboard~=2.6->tensorflow) (1.3.1)\n",
      "Requirement already satisfied: importlib-metadata>=4.4 in c:\\users\\inspira\\appdata\\roaming\\python\\python39\\site-packages (from markdown>=2.6.8->tensorboard~=2.6->tensorflow) (4.10.1)\n",
      "Requirement already satisfied: zipp>=0.5 in c:\\users\\inspira\\appdata\\roaming\\python\\python39\\site-packages (from importlib-metadata>=4.4->markdown>=2.6.8->tensorboard~=2.6->tensorflow) (3.7.0)\n",
      "Requirement already satisfied: pyasn1<0.5.0,>=0.4.6 in c:\\users\\inspira\\appdata\\roaming\\python\\python39\\site-packages (from pyasn1-modules>=0.2.1->google-auth<3,>=1.6.3->tensorboard~=2.6->tensorflow) (0.4.8)\n",
      "Requirement already satisfied: charset-normalizer~=2.0.0 in c:\\program files\\python39\\lib\\site-packages (from requests<3,>=2.21.0->tensorboard~=2.6->tensorflow) (2.0.6)\n",
      "Requirement already satisfied: idna<4,>=2.5 in c:\\program files\\python39\\lib\\site-packages (from requests<3,>=2.21.0->tensorboard~=2.6->tensorflow) (3.2)\n",
      "Requirement already satisfied: urllib3<1.27,>=1.21.1 in c:\\program files\\python39\\lib\\site-packages (from requests<3,>=2.21.0->tensorboard~=2.6->tensorflow) (1.26.6)\n",
      "Requirement already satisfied: certifi>=2017.4.17 in c:\\program files\\python39\\lib\\site-packages (from requests<3,>=2.21.0->tensorboard~=2.6->tensorflow) (2021.5.30)\n",
      "Requirement already satisfied: oauthlib>=3.0.0 in c:\\users\\inspira\\appdata\\roaming\\python\\python39\\site-packages (from requests-oauthlib>=0.7.0->google-auth-oauthlib<0.5,>=0.4.1->tensorboard~=2.6->tensorflow) (3.2.0)\n"
     ]
    },
    {
     "name": "stderr",
     "output_type": "stream",
     "text": [
      "WARNING: You are using pip version 21.1.3; however, version 22.0.2 is available.\n",
      "You should consider upgrading via the 'c:\\program files\\python39\\python.exe -m pip install --upgrade pip' command.\n"
     ]
    },
    {
     "name": "stdout",
     "output_type": "stream",
     "text": [
      "Defaulting to user installation because normal site-packages is not writeable\n",
      "Collecting nltk\n",
      "  Downloading nltk-3.6.7-py3-none-any.whl (1.5 MB)\n",
      "Requirement already satisfied: joblib in c:\\users\\inspira\\appdata\\roaming\\python\\python39\\site-packages (from nltk) (1.1.0)\n",
      "Collecting regex>=2021.8.3\n",
      "  Downloading regex-2022.1.18-cp39-cp39-win_amd64.whl (273 kB)\n",
      "Collecting tqdm\n",
      "  Downloading tqdm-4.62.3-py2.py3-none-any.whl (76 kB)\n",
      "Collecting click\n",
      "  Downloading click-8.0.3-py3-none-any.whl (97 kB)\n",
      "Requirement already satisfied: colorama in c:\\program files\\python39\\lib\\site-packages (from click->nltk) (0.4.4)\n",
      "Installing collected packages: tqdm, regex, click, nltk\n",
      "Successfully installed click-8.0.3 nltk-3.6.7 regex-2022.1.18 tqdm-4.62.3\n"
     ]
    },
    {
     "name": "stderr",
     "output_type": "stream",
     "text": [
      "WARNING: You are using pip version 21.1.3; however, version 22.0.2 is available.\n",
      "You should consider upgrading via the 'c:\\program files\\python39\\python.exe -m pip install --upgrade pip' command.\n"
     ]
    },
    {
     "name": "stdout",
     "output_type": "stream",
     "text": [
      "Defaulting to user installation because normal site-packages is not writeable\n",
      "Collecting mlxtend\n",
      "  Downloading mlxtend-0.19.0-py2.py3-none-any.whl (1.3 MB)\n",
      "Requirement already satisfied: joblib>=0.13.2 in c:\\users\\inspira\\appdata\\roaming\\python\\python39\\site-packages (from mlxtend) (1.1.0)\n",
      "Requirement already satisfied: matplotlib>=3.0.0 in c:\\users\\inspira\\appdata\\roaming\\python\\python39\\site-packages (from mlxtend) (3.5.0)\n",
      "Requirement already satisfied: numpy>=1.16.2 in c:\\program files\\python39\\lib\\site-packages (from mlxtend) (1.21.2)\n",
      "Requirement already satisfied: pandas>=0.24.2 in c:\\program files\\python39\\lib\\site-packages (from mlxtend) (1.3.3)\n",
      "Requirement already satisfied: setuptools in c:\\program files\\python39\\lib\\site-packages (from mlxtend) (56.0.0)\n",
      "Requirement already satisfied: scikit-learn>=0.20.3 in c:\\users\\inspira\\appdata\\roaming\\python\\python39\\site-packages (from mlxtend) (1.0.2)\n",
      "Requirement already satisfied: scipy>=1.2.1 in c:\\users\\inspira\\appdata\\roaming\\python\\python39\\site-packages (from mlxtend) (1.7.3)\n",
      "Requirement already satisfied: pillow>=6.2.0 in c:\\users\\inspira\\appdata\\roaming\\python\\python39\\site-packages (from matplotlib>=3.0.0->mlxtend) (8.4.0)\n",
      "Requirement already satisfied: setuptools-scm>=4 in c:\\users\\inspira\\appdata\\roaming\\python\\python39\\site-packages (from matplotlib>=3.0.0->mlxtend) (6.3.2)\n",
      "Requirement already satisfied: python-dateutil>=2.7 in c:\\program files\\python39\\lib\\site-packages (from matplotlib>=3.0.0->mlxtend) (2.8.2)\n",
      "Requirement already satisfied: packaging>=20.0 in c:\\program files\\python39\\lib\\site-packages (from matplotlib>=3.0.0->mlxtend) (21.0)\n",
      "Requirement already satisfied: kiwisolver>=1.0.1 in c:\\users\\inspira\\appdata\\roaming\\python\\python39\\site-packages (from matplotlib>=3.0.0->mlxtend) (1.3.2)\n",
      "Requirement already satisfied: pyparsing>=2.2.1 in c:\\program files\\python39\\lib\\site-packages (from matplotlib>=3.0.0->mlxtend) (2.4.7)\n",
      "Requirement already satisfied: cycler>=0.10 in c:\\users\\inspira\\appdata\\roaming\\python\\python39\\site-packages (from matplotlib>=3.0.0->mlxtend) (0.11.0)\n",
      "Requirement already satisfied: fonttools>=4.22.0 in c:\\users\\inspira\\appdata\\roaming\\python\\python39\\site-packages (from matplotlib>=3.0.0->mlxtend) (4.28.2)\n",
      "Requirement already satisfied: pytz>=2017.3 in c:\\program files\\python39\\lib\\site-packages (from pandas>=0.24.2->mlxtend) (2021.1)\n",
      "Requirement already satisfied: six>=1.5 in c:\\program files\\python39\\lib\\site-packages (from python-dateutil>=2.7->matplotlib>=3.0.0->mlxtend) (1.16.0)\n",
      "Requirement already satisfied: threadpoolctl>=2.0.0 in c:\\users\\inspira\\appdata\\roaming\\python\\python39\\site-packages (from scikit-learn>=0.20.3->mlxtend) (3.1.0)\n",
      "Requirement already satisfied: tomli>=1.0.0 in c:\\users\\inspira\\appdata\\roaming\\python\\python39\\site-packages (from setuptools-scm>=4->matplotlib>=3.0.0->mlxtend) (1.2.2)\n",
      "Installing collected packages: mlxtend\n",
      "Successfully installed mlxtend-0.19.0\n"
     ]
    },
    {
     "name": "stderr",
     "output_type": "stream",
     "text": [
      "WARNING: You are using pip version 21.1.3; however, version 22.0.2 is available.\n",
      "You should consider upgrading via the 'c:\\program files\\python39\\python.exe -m pip install --upgrade pip' command.\n"
     ]
    }
   ],
   "source": [
    "!pip install pandas\n",
    "!pip install numpy\n",
    "!pip install matplotlib\n",
    "!pip install seaborn\n",
    "!pip install sklearn\n",
    "!pip install keras\n",
    "!pip install tensorflow\n",
    "!pip install nltk\n",
    "!pip install mlxtend"
   ]
  },
  {
   "cell_type": "code",
   "execution_count": 3,
   "metadata": {},
   "outputs": [],
   "source": [
    "import pandas, numpy, matplotlib, seaborn, sklearn, keras, tensorflow, nltk, mlxtend\n"
   ]
  }
 ],
 "metadata": {
  "kernelspec": {
   "display_name": "Python 3 (ipykernel)",
   "language": "python",
   "name": "python3"
  },
  "language_info": {
   "codemirror_mode": {
    "name": "ipython",
    "version": 3
   },
   "file_extension": ".py",
   "mimetype": "text/x-python",
   "name": "python",
   "nbconvert_exporter": "python",
   "pygments_lexer": "ipython3",
   "version": "3.9.6"
  }
 },
 "nbformat": 4,
 "nbformat_minor": 4
}
