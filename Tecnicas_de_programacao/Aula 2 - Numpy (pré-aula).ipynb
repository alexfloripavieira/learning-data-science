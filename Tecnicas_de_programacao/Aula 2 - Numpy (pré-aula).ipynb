{
 "cells": [
  {
   "cell_type": "markdown",
   "metadata": {},
   "source": [
    "## Aula 2 - Numpy"
   ]
  },
  {
   "cell_type": "markdown",
   "metadata": {},
   "source": [
    "Nessa aula, iremos tratar dos seguintes conteúdos:\n",
    "\n",
    "- NumPy\n",
    "- Arrays\n",
    "- Operações Matemáticas\n",
    "- Alguns Métodos NumPy\n",
    "- Indexação\n",
    "- Máscara Booleana\n",
    "- Bonus: List Comprehension"
   ]
  },
  {
   "cell_type": "markdown",
   "metadata": {},
   "source": [
    "## NumPy"
   ]
  },
  {
   "cell_type": "markdown",
   "metadata": {},
   "source": [
    " A biblioteca __NumPy__ (_Numerical Python_) é um pacote do Python para a __armazenagem__ e __processamento__ de conjuntos de dados na forma __matricial__ (computação orientada por matrizes).\n",
    " \n",
    " Outras bibliotecas com o __Pandas__, __MatplotLib__ e __Scikit Learn__ dependem fortemente do __Numpy__, devido a sua eficiência computacional, sendo amplamente utilizado para __computação científica__ e __análise de dados.__\n",
    " \n",
    " O __NumPy__ é um pacote e para utilizarmos, devemos importá-lo para o nosso notebook da seguinte forma:"
   ]
  },
  {
   "cell_type": "code",
   "execution_count": 1,
   "metadata": {},
   "outputs": [],
   "source": [
    "import numpy as np"
   ]
  },
  {
   "cell_type": "markdown",
   "metadata": {},
   "source": [
    "## Arrays"
   ]
  },
  {
   "cell_type": "markdown",
   "metadata": {},
   "source": [
    "A estrutura de dados base do __NumPy__ são os `arrays`, que funcionam de forma parecida com as listas em Python, vamos comparar semelhanças e diferenças\n",
    "\n",
    "Diferenças:\n",
    "- Todos os elementos em um array deve ser do mesmo tipo, tipicamente um tipo numérico como __float__ ou __int__\n",
    "- Os arrays viabilizam a realização eficiente de operações numéricas envolvendo grandes quantidades de dados, sendo para este fim, muito mais eficientes que as listas.\n",
    "- Cada dimensão de um array é chamada de eixo (_axis_)\n",
    "\n",
    "Semelhanças:\n",
    "- Os eixos são numerados a partir de $0$\n",
    "- Os elementos são acessados utilizando colchetes __[]__ (semelhante às listas do Python)"
   ]
  },
  {
   "cell_type": "markdown",
   "metadata": {},
   "source": [
    "#### Conversão de Listas para Arrays\n",
    "\n",
    "Pra criar arrays a partir de uma lista, basta utilizar o procedimento **np.array():**"
   ]
  },
  {
   "cell_type": "code",
   "execution_count": 2,
   "metadata": {},
   "outputs": [],
   "source": [
    "## Definir uma lista\n",
    "lista=[1,2,3,4,5,6]\n",
    "\n",
    "## Fazendo a conversão\n",
    "array = np.array(lista)"
   ]
  },
  {
   "cell_type": "code",
   "execution_count": 3,
   "metadata": {},
   "outputs": [
    {
     "name": "stdout",
     "output_type": "stream",
     "text": [
      "[1, 2, 3, 4, 5, 6]\n",
      "[1 2 3 4 5 6]\n"
     ]
    }
   ],
   "source": [
    "## Print comparativo\n",
    "print(lista)\n",
    "print(array)"
   ]
  },
  {
   "cell_type": "markdown",
   "metadata": {},
   "source": [
    "## Operações Matemáticas entre arrays"
   ]
  },
  {
   "cell_type": "code",
   "execution_count": 4,
   "metadata": {},
   "outputs": [],
   "source": [
    "## Contas com constantes"
   ]
  },
  {
   "cell_type": "code",
   "execution_count": 5,
   "metadata": {},
   "outputs": [],
   "source": [
    "## Contas entre arrays"
   ]
  },
  {
   "cell_type": "markdown",
   "metadata": {},
   "source": [
    "## Exercício"
   ]
  },
  {
   "cell_type": "markdown",
   "metadata": {},
   "source": [
    "Vamos fazer um exercício para dar uma revisada nos conhecimentos de python e ao mesmo tempo praticar o que aprendemos até aqui. Construa um programa onde o usuário digita uma lista de preços de produtos. Depois peça ao lojista que digite uma lista de descontos em percentagem.\n",
    "\n",
    "De posse das duas listas, transforme ambas em Arrays NumPy e calcule a lista dos preços resultantes desta compra!"
   ]
  },
  {
   "cell_type": "code",
   "execution_count": 6,
   "metadata": {},
   "outputs": [
    {
     "name": "stdout",
     "output_type": "stream",
     "text": [
      "Digite o valor do produto 1:100\n",
      "Digite o valor do produto 2:200\n",
      "Digite o valor do produto 3:300\n",
      "Digite o valor do produto 4:400\n",
      "Digite o valor do produto 5:500\n",
      "[100.0, 200.0, 300.0, 400.0, 500.0]\n",
      "[100. 200. 300. 400. 500.]\n"
     ]
    }
   ],
   "source": [
    "lista_1 =[]\n",
    "lista_2 = []\n",
    "\n",
    "for item in range(5):\n",
    "    lista_1.append(float(input('Digite o valor do produto ' + str(item+1) + ':')))\n",
    "array_1 = np.array(lista_1)\n",
    "print(lista_1)\n",
    "print(array_1)"
   ]
  },
  {
   "cell_type": "code",
   "execution_count": 7,
   "metadata": {},
   "outputs": [
    {
     "name": "stdout",
     "output_type": "stream",
     "text": [
      "Digite o valor do desconto1:10\n",
      "Digite o valor do desconto2:25\n",
      "Digite o valor do desconto3:35\n",
      "Digite o valor do desconto4:45\n",
      "Digite o valor do desconto5:50\n",
      "[10.0, 25.0, 35.0, 45.0, 50.0]\n",
      "[10. 25. 35. 45. 50.]\n"
     ]
    }
   ],
   "source": [
    "for item in range(5):\n",
    "    lista_2.append(float(input('Digite o valor do desconto' + str(item+1) + ':')))\n",
    "array_2 = np.array(lista_2)\n",
    "print(lista_2)\n",
    "print(array_2)"
   ]
  },
  {
   "cell_type": "code",
   "execution_count": 8,
   "metadata": {},
   "outputs": [
    {
     "name": "stdout",
     "output_type": "stream",
     "text": [
      "[ 90. 150. 195. 220. 250.]\n"
     ]
    }
   ],
   "source": [
    "array = array_1 * (1 - (array_2/100))\n",
    "print(array)"
   ]
  },
  {
   "cell_type": "markdown",
   "metadata": {},
   "source": [
    "## Alguns métodos do NumPy para criar Arrays\n",
    "\n",
    "Outra forma de criarmos arrays seria usando __métodos NumPy__ como por exemplo __np.zeros__, __np.ones__ e outros mais:"
   ]
  },
  {
   "cell_type": "code",
   "execution_count": null,
   "metadata": {},
   "outputs": [],
   "source": []
  },
  {
   "cell_type": "code",
   "execution_count": 9,
   "metadata": {},
   "outputs": [
    {
     "name": "stdout",
     "output_type": "stream",
     "text": [
      "[0. 0. 0. 0. 0. 0. 0. 0. 0. 0.]\n"
     ]
    }
   ],
   "source": [
    "## Array de Zeros\n",
    "arr_zeros = np.zeros(10)\n",
    "\n",
    "print(arr_zeros)"
   ]
  },
  {
   "cell_type": "code",
   "execution_count": 10,
   "metadata": {},
   "outputs": [
    {
     "name": "stdout",
     "output_type": "stream",
     "text": [
      "[1. 1. 1. 1. 1. 1. 1. 1. 1. 1.]\n"
     ]
    }
   ],
   "source": [
    "## Array de Uns\n",
    "arr_ones = np.ones(10)\n",
    "\n",
    "print(arr_ones)"
   ]
  },
  {
   "cell_type": "code",
   "execution_count": 12,
   "metadata": {},
   "outputs": [
    {
     "name": "stdout",
     "output_type": "stream",
     "text": [
      "0\n",
      "1\n",
      "2\n",
      "3\n",
      "4\n",
      "5\n",
      "6\n",
      "7\n",
      "8\n",
      "9\n"
     ]
    }
   ],
   "source": [
    "## Revisão método range\n",
    "for i in range(10):\n",
    "    print(i)"
   ]
  },
  {
   "cell_type": "code",
   "execution_count": 17,
   "metadata": {},
   "outputs": [
    {
     "name": "stdout",
     "output_type": "stream",
     "text": [
      "[0 1 2 3 4 5 6 7 8 9]\n",
      "[11 12 13 14 15 16 17 18 19 20]\n",
      "[ 0  2  4  6  8 10 12 14 16 18 20 22 24 26 28 30 32 34 36 38 40 42 44 46\n",
      " 48 50 52 54 56 58 60 62 64 66 68 70 72 74 76 78 80 82 84 86 88 90 92 94\n",
      " 96 98]\n"
     ]
    }
   ],
   "source": [
    "## Array de Range\n",
    "arr_sequencia = np.arange(10)\n",
    "arr_range = np.arange(11, 21)\n",
    "arr_pares = np.arange(0, 100, 2)\n",
    "\n",
    "print(arr_sequencia)\n",
    "print(arr_range)\n",
    "print(arr_pares)"
   ]
  },
  {
   "cell_type": "code",
   "execution_count": 18,
   "metadata": {},
   "outputs": [
    {
     "name": "stdout",
     "output_type": "stream",
     "text": [
      "[0.   0.25 0.5  0.75 1.  ]\n"
     ]
    }
   ],
   "source": [
    "## linspace -> Fatiamento de intervalo\n",
    "arr_linspace = np.linspace(0, 1, 5)\n",
    "print(arr_linspace)"
   ]
  },
  {
   "cell_type": "code",
   "execution_count": 19,
   "metadata": {},
   "outputs": [
    {
     "name": "stdout",
     "output_type": "stream",
     "text": [
      "[0.92456113 0.77065799 0.54682129 0.6669564  0.98237416 0.35139218\n",
      " 0.33431728 0.30117147 0.73060319 0.98383503]\n"
     ]
    }
   ],
   "source": [
    "## Distribuição aleatória entre 0 e 1\n",
    "arr_random = np.random.rand(10)\n",
    "print(arr_random)"
   ]
  },
  {
   "cell_type": "code",
   "execution_count": 33,
   "metadata": {},
   "outputs": [
    {
     "name": "stdout",
     "output_type": "stream",
     "text": [
      "[1. 1. 1. 1. 1. 1. 1. 1. 1. 1.]\n"
     ]
    }
   ],
   "source": [
    "## Distribuição aleatoria e normal\n",
    "arr_normal = np.random.normal(1, 0, 10)\n",
    "print(arr_normal)"
   ]
  },
  {
   "cell_type": "code",
   "execution_count": 27,
   "metadata": {},
   "outputs": [
    {
     "name": "stdout",
     "output_type": "stream",
     "text": [
      "[11 94 34 58 69 74 82 70 55 21 94  8 75  3 25 75 43  3 73  4]\n"
     ]
    }
   ],
   "source": [
    "## distribuição aleatória e inteira\n",
    "arr_inteiros = np.random.randint(0, 100, 20)\n",
    "print(arr_inteiros)"
   ]
  },
  {
   "cell_type": "markdown",
   "metadata": {},
   "source": [
    "## Métodos do NumPy para estatística e ordenação"
   ]
  },
  {
   "cell_type": "code",
   "execution_count": 25,
   "metadata": {},
   "outputs": [
    {
     "name": "stdout",
     "output_type": "stream",
     "text": [
      "[ 0  0 21 33 35 41 48 50 53 54 61 64 70 71 74 77 77 80 83 89]\n"
     ]
    }
   ],
   "source": [
    "## Método sort\n",
    "arr_inteiros.sort()\n",
    "print(arr_inteiros)"
   ]
  },
  {
   "cell_type": "code",
   "execution_count": 28,
   "metadata": {},
   "outputs": [
    {
     "name": "stdout",
     "output_type": "stream",
     "text": [
      "[11 94 34 58 69 74 82 70 55 21 94  8 75  3 25 75 43  3 73  4]\n",
      "[17 13 19 11  0  9 14  2 16  8  3  4  7 18  5 12 15  6 10  1]\n"
     ]
    }
   ],
   "source": [
    "## Método argsort\n",
    "indice = np.argsort(arr_inteiros)\n",
    "print(arr_inteiros)\n",
    "print(indice)"
   ]
  },
  {
   "cell_type": "code",
   "execution_count": 29,
   "metadata": {},
   "outputs": [
    {
     "data": {
      "text/plain": [
       "94"
      ]
     },
     "execution_count": 29,
     "metadata": {},
     "output_type": "execute_result"
    }
   ],
   "source": [
    "## Método max\n",
    "arr_inteiros.max()"
   ]
  },
  {
   "cell_type": "code",
   "execution_count": 30,
   "metadata": {},
   "outputs": [
    {
     "data": {
      "text/plain": [
       "3"
      ]
     },
     "execution_count": 30,
     "metadata": {},
     "output_type": "execute_result"
    }
   ],
   "source": [
    "## Método min\n",
    "arr_inteiros.min()"
   ]
  },
  {
   "cell_type": "code",
   "execution_count": 31,
   "metadata": {},
   "outputs": [
    {
     "data": {
      "text/plain": [
       "971"
      ]
     },
     "execution_count": 31,
     "metadata": {},
     "output_type": "execute_result"
    }
   ],
   "source": [
    "## Metodo sum\n",
    "arr_inteiros.sum()"
   ]
  },
  {
   "cell_type": "code",
   "execution_count": 34,
   "metadata": {},
   "outputs": [
    {
     "data": {
      "text/plain": [
       "1.0"
      ]
     },
     "execution_count": 34,
     "metadata": {},
     "output_type": "execute_result"
    }
   ],
   "source": [
    "## Metodo mean\n",
    "lista_simples = [1, 2, 3,]\n",
    "arr_normal.mean()"
   ]
  },
  {
   "cell_type": "code",
   "execution_count": 35,
   "metadata": {},
   "outputs": [
    {
     "data": {
      "text/plain": [
       "31.344018568141514"
      ]
     },
     "execution_count": 35,
     "metadata": {},
     "output_type": "execute_result"
    }
   ],
   "source": [
    "## Metodo std\n",
    "arr_inteiros.std()"
   ]
  },
  {
   "cell_type": "code",
   "execution_count": 39,
   "metadata": {},
   "outputs": [
    {
     "name": "stdout",
     "output_type": "stream",
     "text": [
      "[11 94 34 58 69 74 82 70 55 21 94  8 75  3 25 75 43  3 73  4]\n"
     ]
    },
    {
     "data": {
      "text/plain": [
       "1"
      ]
     },
     "execution_count": 39,
     "metadata": {},
     "output_type": "execute_result"
    }
   ],
   "source": [
    "## Metodo argmax\n",
    "print(arr_inteiros)\n",
    "arr_inteiros.argmax()"
   ]
  },
  {
   "cell_type": "code",
   "execution_count": 40,
   "metadata": {},
   "outputs": [
    {
     "name": "stdout",
     "output_type": "stream",
     "text": [
      "[11 94 34 58 69 74 82 70 55 21 94  8 75  3 25 75 43  3 73  4]\n"
     ]
    },
    {
     "data": {
      "text/plain": [
       "13"
      ]
     },
     "execution_count": 40,
     "metadata": {},
     "output_type": "execute_result"
    }
   ],
   "source": [
    "## Metodo argmin\n",
    "print(arr_inteiros)\n",
    "arr_inteiros.argmin()"
   ]
  },
  {
   "cell_type": "markdown",
   "metadata": {},
   "source": [
    "## Exercício"
   ]
  },
  {
   "cell_type": "markdown",
   "metadata": {},
   "source": [
    "Mais um exercício onde queremos um pouco de revisão. Faça um programa que gera aleatóriamente as notas de 20 alunos entre 0 e 10 (notas quebradas são permitidas, um 8.4 por exemplo é uma nota válida). Em seguida, calcule a média dessa turma"
   ]
  },
  {
   "cell_type": "code",
   "execution_count": 70,
   "metadata": {},
   "outputs": [
    {
     "name": "stdout",
     "output_type": "stream",
     "text": [
      "[8.9 4.3 8.6 4.5 0.3 0.9 5.3 4.6 9.8 7.5 3.2 0.8 9.1 9.6 6.3 0.8 2.3 3.5\n",
      " 3.1 2.4]\n",
      "media dos 20 alunos é: 4.79\n"
     ]
    }
   ],
   "source": [
    "arr_notas = np.round_(np.random.uniform(0, 10, 20), decimals = 1)\n",
    "print(arr_notas)\n",
    "\n",
    "print('media dos 20 alunos é: ' + str(arr_notas.mean()))"
   ]
  },
  {
   "cell_type": "markdown",
   "metadata": {},
   "source": [
    "## Indexação"
   ]
  },
  {
   "cell_type": "code",
   "execution_count": 77,
   "metadata": {},
   "outputs": [
    {
     "name": "stdout",
     "output_type": "stream",
     "text": [
      "[ 7  8  9 10 11 12 13 14 15 16 17 18 19]\n",
      "8\n",
      "18\n"
     ]
    }
   ],
   "source": [
    "## Acesso a elemento\n",
    "array = np.arange(7, 20, 1)\n",
    "print(array)\n",
    "print(array[1])\n",
    "print(array[-2])"
   ]
  },
  {
   "cell_type": "code",
   "execution_count": 82,
   "metadata": {},
   "outputs": [
    {
     "name": "stdout",
     "output_type": "stream",
     "text": [
      "[ 8  9 10 11]\n",
      "[7 8 9]\n",
      "[10 11 12 13 14 15 16 17 18 19]\n",
      "[ 7  8  9 10 11 12 13 14 15 16 17 18 19]\n"
     ]
    }
   ],
   "source": [
    "## Array Slicing\n",
    "print(array[1:5])\n",
    "\n",
    "print(array[:3])\n",
    "\n",
    "print(array[3:])\n",
    "\n",
    "print(array[::])"
   ]
  },
  {
   "cell_type": "markdown",
   "metadata": {},
   "source": [
    "## Mascára Booleana"
   ]
  },
  {
   "cell_type": "code",
   "execution_count": 83,
   "metadata": {},
   "outputs": [
    {
     "name": "stdout",
     "output_type": "stream",
     "text": [
      "[ 0  1  2  3  4  5  6  7  8  9 10 11 12 13 14 15 16 17 18 19]\n"
     ]
    }
   ],
   "source": [
    "## Construindo uma máscara\n",
    "array = np.arange(20)\n",
    "print(array)"
   ]
  },
  {
   "cell_type": "code",
   "execution_count": 92,
   "metadata": {},
   "outputs": [
    {
     "name": "stdout",
     "output_type": "stream",
     "text": [
      "[False False False False False False False False  True  True  True  True\n",
      "  True  True  True  True  True  True  True  True]\n",
      "[0 1 0 1 0 1 0 1 0 1 0 1 0 1 0 1 0 1 0 1]\n"
     ]
    }
   ],
   "source": [
    "## Como a máscara se parece?\n",
    "mascara = array > 7\n",
    "print(mascara)\n",
    "m = array%2\n",
    "print(m)"
   ]
  },
  {
   "cell_type": "code",
   "execution_count": 94,
   "metadata": {},
   "outputs": [
    {
     "name": "stdout",
     "output_type": "stream",
     "text": [
      "[ 8  9 10 11 12 13 14 15 16 17 18 19]\n",
      "[0 1 0 1 0 1 0 1 0 1 0 1 0 1 0 1 0 1 0 1]\n"
     ]
    }
   ],
   "source": [
    "## Acessando o array com a mascara\n",
    "print(array[mascara])\n",
    "print(array[m])"
   ]
  },
  {
   "cell_type": "code",
   "execution_count": 90,
   "metadata": {},
   "outputs": [
    {
     "name": "stdout",
     "output_type": "stream",
     "text": [
      "[11 12 13 14]\n"
     ]
    }
   ],
   "source": [
    "## Máscara composta\n",
    "mascara_composta = (array > 10) & (array < 15)\n",
    "print(array[mascara_composta])"
   ]
  },
  {
   "cell_type": "markdown",
   "metadata": {},
   "source": [
    "## Exercícios"
   ]
  },
  {
   "cell_type": "markdown",
   "metadata": {},
   "source": [
    "1 - Faça uma máscara que identifique num array se os elementos são pares ou não\n",
    "\n",
    "2 - Volte no exercício da lista de notas. Se a media for 7, quais deles terão passado? Use uma mascara para descobrir\n",
    "\n",
    "3 - Quais foram acima da média?"
   ]
  },
  {
   "cell_type": "code",
   "execution_count": 97,
   "metadata": {},
   "outputs": [
    {
     "name": "stdout",
     "output_type": "stream",
     "text": [
      "[ True False  True False  True False  True False  True False  True False\n",
      "  True False  True False  True False  True False]\n",
      "[ 0  2  4  6  8 10 12 14 16 18]\n"
     ]
    }
   ],
   "source": [
    "array = np.arange(20)\n",
    "m = array%2 == 0\n",
    "print(m)\n",
    "print(array[m])"
   ]
  },
  {
   "cell_type": "code",
   "execution_count": 107,
   "metadata": {},
   "outputs": [
    {
     "name": "stdout",
     "output_type": "stream",
     "text": [
      "notas da turma [5.9 9.6 9.3 1.9 1.7 2.4 7.3 3.3 7.8 0.9 6.3 1.3 6.2 2.2 3.6 1.8 6.5 5.9\n",
      " 9.7 5.5]\n",
      "Alunos aprovados [9.6 9.3 7.3 7.8 9.7]\n",
      "Alunos com chance de recuperação [5.9 6.3 6.2 6.5 5.9 5.5]\n",
      "Alunos reprovados [1.9 1.7 2.4 3.3 0.9 1.3 2.2 3.6 1.8]\n",
      "media dos 20 alunos é: 4.955\n"
     ]
    }
   ],
   "source": [
    "arr_notas = np.round_(np.random.uniform(0, 10, 20), decimals = 1)\n",
    "print('notas da turma', arr_notas)\n",
    "\n",
    "m = arr_notas >= 7\n",
    "print('Alunos aprovados', arr_notas[m])\n",
    "\n",
    "m2 = (arr_notas > arr_notas.mean()) & (arr_notas < 7)\n",
    "m3 = arr_notas < arr_notas.mean()\n",
    "print('Alunos com chance de recuperação', arr_notas[m2])\n",
    "\n",
    "print('Alunos reprovados', arr_notas[m3])\n",
    "\n",
    "print('media dos 20 alunos é: ' + str(arr_notas.mean()))"
   ]
  },
  {
   "cell_type": "markdown",
   "metadata": {},
   "source": [
    "## List Comprehension\n",
    "\n",
    "<img src='https://miro.medium.com/max/858/0*ChFR2D9j8fxqz3D5.png' width=800>"
   ]
  },
  {
   "cell_type": "markdown",
   "metadata": {},
   "source": [
    "## Exercício - Desafio"
   ]
  },
  {
   "cell_type": "markdown",
   "metadata": {},
   "source": [
    "Utilize comprehension para gerar a lista de todos os números pares entre 0 e 19. Converta a lista em um __numpy__ array e cálcule a média."
   ]
  },
  {
   "cell_type": "code",
   "execution_count": 108,
   "metadata": {},
   "outputs": [],
   "source": [
    "even_squares = []\n",
    "for num in range(11):\n",
    "    if num%2 == 0:\n",
    "        even_squares.append(num*num)"
   ]
  },
  {
   "cell_type": "code",
   "execution_count": 109,
   "metadata": {},
   "outputs": [
    {
     "name": "stdout",
     "output_type": "stream",
     "text": [
      "[0, 4, 16, 36, 64, 100]\n"
     ]
    }
   ],
   "source": [
    "print(even_squares)"
   ]
  },
  {
   "cell_type": "code",
   "execution_count": 110,
   "metadata": {},
   "outputs": [],
   "source": [
    "even = []\n",
    "for num in range(20):\n",
    "    if num%2 == 0:\n",
    "        even.append(num)"
   ]
  },
  {
   "cell_type": "code",
   "execution_count": 111,
   "metadata": {},
   "outputs": [
    {
     "name": "stdout",
     "output_type": "stream",
     "text": [
      "[0, 2, 4, 6, 8, 10, 12, 14, 16, 18]\n"
     ]
    }
   ],
   "source": [
    "print(even)"
   ]
  },
  {
   "cell_type": "code",
   "execution_count": 112,
   "metadata": {},
   "outputs": [
    {
     "name": "stdout",
     "output_type": "stream",
     "text": [
      "[ 0  2  4  6  8 10 12 14 16 18]\n"
     ]
    }
   ],
   "source": [
    "arr_even = np.array(even)\n",
    "print(arr_even)"
   ]
  },
  {
   "cell_type": "code",
   "execution_count": 114,
   "metadata": {},
   "outputs": [
    {
     "name": "stdout",
     "output_type": "stream",
     "text": [
      "9.0\n"
     ]
    }
   ],
   "source": [
    "print(arr_even.mean())"
   ]
  },
  {
   "cell_type": "code",
   "execution_count": null,
   "metadata": {},
   "outputs": [],
   "source": []
  }
 ],
 "metadata": {
  "kernelspec": {
   "display_name": "Python 3",
   "language": "python",
   "name": "python3"
  },
  "language_info": {
   "codemirror_mode": {
    "name": "ipython",
    "version": 3
   },
   "file_extension": ".py",
   "mimetype": "text/x-python",
   "name": "python",
   "nbconvert_exporter": "python",
   "pygments_lexer": "ipython3",
   "version": "3.7.3"
  }
 },
 "nbformat": 4,
 "nbformat_minor": 5
}
