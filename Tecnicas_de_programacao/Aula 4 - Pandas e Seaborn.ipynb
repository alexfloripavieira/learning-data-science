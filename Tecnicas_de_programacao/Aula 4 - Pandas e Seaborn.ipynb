{
 "cells": [
  {
   "cell_type": "markdown",
   "metadata": {},
   "source": [
    "# Aula 4 - Pandas e Seaborn\n",
    "\n",
    "Nessa aula, iremos tratar dos seguintes conteúdos:\n",
    "- Combinando DataFrames\n",
    "- Agrupamentos no Pandas\n",
    "- Seaborn\n",
    "- Arquivos de Dados do Seaborn\n",
    "- Outras Visualizações do Seaborn"
   ]
  },
  {
   "cell_type": "code",
   "execution_count": null,
   "metadata": {},
   "outputs": [],
   "source": []
  },
  {
   "cell_type": "code",
   "execution_count": 1,
   "metadata": {},
   "outputs": [],
   "source": [
    "import pandas as pd\n",
    "import numpy as np"
   ]
  },
  {
   "cell_type": "code",
   "execution_count": null,
   "metadata": {},
   "outputs": [],
   "source": []
  },
  {
   "cell_type": "markdown",
   "metadata": {},
   "source": [
    "## Combinando DataFrames\n",
    "__Pandas__ fornece um conjunto de métodos para combinar DataFrames, o que é extremamente útil em cenários envolvendo múltiplas fontes de dados. Em particular, os métodos:\n",
    "- __merge__ combina DataFrames com base nos rótulos das linhas ou valores das colunas\n",
    "- __concatenate__ combina DataFrames a partir de um eixo específico"
   ]
  },
  {
   "cell_type": "markdown",
   "metadata": {},
   "source": [
    "### merge\n",
    "O método __merge__ \"funde\" dois DataFrames, duas séries, ou uma série com um DataFrame.\n",
    "\n",
    "A fusão pode ser feita com base nos:\n",
    "- valores de duas colunas específicas, uma em cada DataFrame \n",
    "- valores de uma coluna em um dos DataFrame e rótulos das linhas no outro\n",
    "- valores dos rótulos das linhas em ambos os DataFrames (ou Séries)"
   ]
  },
  {
   "cell_type": "code",
   "execution_count": 2,
   "metadata": {},
   "outputs": [],
   "source": [
    "# Construindo dois DataFrames que serão fundidos com o método 'merge'\n",
    "df1 = pd.DataFrame({'key': ['b','b','a','c','a','a','b'], \n",
    "                   'data1': range(7)})\n",
    "\n",
    "df2 = pd.DataFrame({'key': ['a','b','d','b','d'], \n",
    "                   'data2': range(5)})\n",
    "\n",
    "# Print do primeiro Dataframe\n",
    "\n",
    "\n",
    "# Print do Segundo Dataframe\n"
   ]
  },
  {
   "cell_type": "code",
   "execution_count": null,
   "metadata": {},
   "outputs": [],
   "source": [
    "# Usando o merge a partir de uma chave primaria\n"
   ]
  },
  {
   "cell_type": "code",
   "execution_count": null,
   "metadata": {},
   "outputs": [],
   "source": [
    "# Com o how podemos passar o tipo merge que queremos fazer (left, right, inner, outer)\n"
   ]
  },
  {
   "cell_type": "markdown",
   "metadata": {},
   "source": [
    "### concat\n",
    "O método __concat__ é utilizado para juntar DataFrames ou Séries com base em um dos eixos.\n",
    "- __axis = 0__ concatena por linhas \n",
    "- __axis = 1__ concatena por colunas. Quando empregado em um conjunto de séries resulta em um DataFrame\n",
    "\n",
    "O método assume como parâmetro uma lista de DataFrames ou Séries."
   ]
  },
  {
   "cell_type": "code",
   "execution_count": 3,
   "metadata": {},
   "outputs": [],
   "source": [
    "# Construindo 3 séries especificando os rótulos das linhas\n",
    "s1 = pd.Series([0, 1], index=['a', 'b'])\n",
    "s2 = pd.Series([2, 3, 4], index=['c', 'd', 'e'])\n",
    "s3 = pd.Series([1,5, 6], index=['a','f', 'd']) \n",
    "\n",
    "# Print das Series\n",
    "\n",
    "\n",
    "# Contatenando as 3 séries na vertical (axis=0 por default)\n",
    "# concat recebe uma lista de series ou dataframes\n"
   ]
  },
  {
   "cell_type": "code",
   "execution_count": null,
   "metadata": {},
   "outputs": [],
   "source": [
    "# Concatenando as 3 séries por colunas especificando o parâmetro 'axis=1'\n"
   ]
  },
  {
   "cell_type": "markdown",
   "metadata": {},
   "source": [
    "### pivot\n",
    "O método __concat__ é utilizado para juntar DataFrames ou Séries com base em um dos eixos.\n",
    "- __axis = 0__ concatena por linhas \n",
    "- __axis = 1__ concatena por colunas. Quando empregado em um conjunto de séries resulta em um DataFrame\n",
    "\n",
    "O método assume como parâmetro uma lista de DataFrames ou Séries."
   ]
  },
  {
   "cell_type": "code",
   "execution_count": 5,
   "metadata": {},
   "outputs": [
    {
     "data": {
      "text/html": [
       "<div>\n",
       "<style scoped>\n",
       "    .dataframe tbody tr th:only-of-type {\n",
       "        vertical-align: middle;\n",
       "    }\n",
       "\n",
       "    .dataframe tbody tr th {\n",
       "        vertical-align: top;\n",
       "    }\n",
       "\n",
       "    .dataframe thead th {\n",
       "        text-align: right;\n",
       "    }\n",
       "</style>\n",
       "<table border=\"1\" class=\"dataframe\">\n",
       "  <thead>\n",
       "    <tr style=\"text-align: right;\">\n",
       "      <th>Sex</th>\n",
       "      <th>female</th>\n",
       "      <th>male</th>\n",
       "    </tr>\n",
       "    <tr>\n",
       "      <th>Pclass</th>\n",
       "      <th></th>\n",
       "      <th></th>\n",
       "    </tr>\n",
       "  </thead>\n",
       "  <tbody>\n",
       "    <tr>\n",
       "      <th>1</th>\n",
       "      <td>34.611765</td>\n",
       "      <td>41.281386</td>\n",
       "    </tr>\n",
       "    <tr>\n",
       "      <th>2</th>\n",
       "      <td>28.722973</td>\n",
       "      <td>30.740707</td>\n",
       "    </tr>\n",
       "    <tr>\n",
       "      <th>3</th>\n",
       "      <td>21.750000</td>\n",
       "      <td>26.507589</td>\n",
       "    </tr>\n",
       "  </tbody>\n",
       "</table>\n",
       "</div>"
      ],
      "text/plain": [
       "Sex        female       male\n",
       "Pclass                      \n",
       "1       34.611765  41.281386\n",
       "2       28.722973  30.740707\n",
       "3       21.750000  26.507589"
      ]
     },
     "execution_count": 5,
     "metadata": {},
     "output_type": "execute_result"
    }
   ],
   "source": [
    "df_titanic = pd.read_csv('../Python/titanic.csv')\n",
    "\n",
    "pd.pivot_table(df_titanic, values='Age', index='Pclass', columns='Sex', aggfunc=np.mean)"
   ]
  },
  {
   "cell_type": "code",
   "execution_count": 6,
   "metadata": {},
   "outputs": [
    {
     "data": {
      "text/html": [
       "<div>\n",
       "<style scoped>\n",
       "    .dataframe tbody tr th:only-of-type {\n",
       "        vertical-align: middle;\n",
       "    }\n",
       "\n",
       "    .dataframe tbody tr th {\n",
       "        vertical-align: top;\n",
       "    }\n",
       "\n",
       "    .dataframe thead th {\n",
       "        text-align: right;\n",
       "    }\n",
       "</style>\n",
       "<table border=\"1\" class=\"dataframe\">\n",
       "  <thead>\n",
       "    <tr style=\"text-align: right;\">\n",
       "      <th></th>\n",
       "      <th>PassengerId</th>\n",
       "      <th>Survived</th>\n",
       "      <th>Pclass</th>\n",
       "      <th>Name</th>\n",
       "      <th>Sex</th>\n",
       "      <th>Age</th>\n",
       "      <th>SibSp</th>\n",
       "      <th>Parch</th>\n",
       "      <th>Ticket</th>\n",
       "      <th>Fare</th>\n",
       "      <th>Cabin</th>\n",
       "      <th>Embarked</th>\n",
       "    </tr>\n",
       "  </thead>\n",
       "  <tbody>\n",
       "    <tr>\n",
       "      <th>0</th>\n",
       "      <td>1</td>\n",
       "      <td>0</td>\n",
       "      <td>3</td>\n",
       "      <td>Braund, Mr. Owen Harris</td>\n",
       "      <td>male</td>\n",
       "      <td>22.0</td>\n",
       "      <td>1</td>\n",
       "      <td>0</td>\n",
       "      <td>A/5 21171</td>\n",
       "      <td>7.2500</td>\n",
       "      <td>NaN</td>\n",
       "      <td>S</td>\n",
       "    </tr>\n",
       "    <tr>\n",
       "      <th>1</th>\n",
       "      <td>2</td>\n",
       "      <td>1</td>\n",
       "      <td>1</td>\n",
       "      <td>Cumings, Mrs. John Bradley (Florence Briggs Th...</td>\n",
       "      <td>female</td>\n",
       "      <td>38.0</td>\n",
       "      <td>1</td>\n",
       "      <td>0</td>\n",
       "      <td>PC 17599</td>\n",
       "      <td>71.2833</td>\n",
       "      <td>C85</td>\n",
       "      <td>C</td>\n",
       "    </tr>\n",
       "    <tr>\n",
       "      <th>2</th>\n",
       "      <td>3</td>\n",
       "      <td>1</td>\n",
       "      <td>3</td>\n",
       "      <td>Heikkinen, Miss. Laina</td>\n",
       "      <td>female</td>\n",
       "      <td>26.0</td>\n",
       "      <td>0</td>\n",
       "      <td>0</td>\n",
       "      <td>STON/O2. 3101282</td>\n",
       "      <td>7.9250</td>\n",
       "      <td>NaN</td>\n",
       "      <td>S</td>\n",
       "    </tr>\n",
       "    <tr>\n",
       "      <th>3</th>\n",
       "      <td>4</td>\n",
       "      <td>1</td>\n",
       "      <td>1</td>\n",
       "      <td>Futrelle, Mrs. Jacques Heath (Lily May Peel)</td>\n",
       "      <td>female</td>\n",
       "      <td>35.0</td>\n",
       "      <td>1</td>\n",
       "      <td>0</td>\n",
       "      <td>113803</td>\n",
       "      <td>53.1000</td>\n",
       "      <td>C123</td>\n",
       "      <td>S</td>\n",
       "    </tr>\n",
       "    <tr>\n",
       "      <th>4</th>\n",
       "      <td>5</td>\n",
       "      <td>0</td>\n",
       "      <td>3</td>\n",
       "      <td>Allen, Mr. William Henry</td>\n",
       "      <td>male</td>\n",
       "      <td>35.0</td>\n",
       "      <td>0</td>\n",
       "      <td>0</td>\n",
       "      <td>373450</td>\n",
       "      <td>8.0500</td>\n",
       "      <td>NaN</td>\n",
       "      <td>S</td>\n",
       "    </tr>\n",
       "    <tr>\n",
       "      <th>...</th>\n",
       "      <td>...</td>\n",
       "      <td>...</td>\n",
       "      <td>...</td>\n",
       "      <td>...</td>\n",
       "      <td>...</td>\n",
       "      <td>...</td>\n",
       "      <td>...</td>\n",
       "      <td>...</td>\n",
       "      <td>...</td>\n",
       "      <td>...</td>\n",
       "      <td>...</td>\n",
       "      <td>...</td>\n",
       "    </tr>\n",
       "    <tr>\n",
       "      <th>886</th>\n",
       "      <td>887</td>\n",
       "      <td>0</td>\n",
       "      <td>2</td>\n",
       "      <td>Montvila, Rev. Juozas</td>\n",
       "      <td>male</td>\n",
       "      <td>27.0</td>\n",
       "      <td>0</td>\n",
       "      <td>0</td>\n",
       "      <td>211536</td>\n",
       "      <td>13.0000</td>\n",
       "      <td>NaN</td>\n",
       "      <td>S</td>\n",
       "    </tr>\n",
       "    <tr>\n",
       "      <th>887</th>\n",
       "      <td>888</td>\n",
       "      <td>1</td>\n",
       "      <td>1</td>\n",
       "      <td>Graham, Miss. Margaret Edith</td>\n",
       "      <td>female</td>\n",
       "      <td>19.0</td>\n",
       "      <td>0</td>\n",
       "      <td>0</td>\n",
       "      <td>112053</td>\n",
       "      <td>30.0000</td>\n",
       "      <td>B42</td>\n",
       "      <td>S</td>\n",
       "    </tr>\n",
       "    <tr>\n",
       "      <th>888</th>\n",
       "      <td>889</td>\n",
       "      <td>0</td>\n",
       "      <td>3</td>\n",
       "      <td>Johnston, Miss. Catherine Helen \"Carrie\"</td>\n",
       "      <td>female</td>\n",
       "      <td>NaN</td>\n",
       "      <td>1</td>\n",
       "      <td>2</td>\n",
       "      <td>W./C. 6607</td>\n",
       "      <td>23.4500</td>\n",
       "      <td>NaN</td>\n",
       "      <td>S</td>\n",
       "    </tr>\n",
       "    <tr>\n",
       "      <th>889</th>\n",
       "      <td>890</td>\n",
       "      <td>1</td>\n",
       "      <td>1</td>\n",
       "      <td>Behr, Mr. Karl Howell</td>\n",
       "      <td>male</td>\n",
       "      <td>26.0</td>\n",
       "      <td>0</td>\n",
       "      <td>0</td>\n",
       "      <td>111369</td>\n",
       "      <td>30.0000</td>\n",
       "      <td>C148</td>\n",
       "      <td>C</td>\n",
       "    </tr>\n",
       "    <tr>\n",
       "      <th>890</th>\n",
       "      <td>891</td>\n",
       "      <td>0</td>\n",
       "      <td>3</td>\n",
       "      <td>Dooley, Mr. Patrick</td>\n",
       "      <td>male</td>\n",
       "      <td>32.0</td>\n",
       "      <td>0</td>\n",
       "      <td>0</td>\n",
       "      <td>370376</td>\n",
       "      <td>7.7500</td>\n",
       "      <td>NaN</td>\n",
       "      <td>Q</td>\n",
       "    </tr>\n",
       "  </tbody>\n",
       "</table>\n",
       "<p>891 rows × 12 columns</p>\n",
       "</div>"
      ],
      "text/plain": [
       "     PassengerId  Survived  Pclass  \\\n",
       "0              1         0       3   \n",
       "1              2         1       1   \n",
       "2              3         1       3   \n",
       "3              4         1       1   \n",
       "4              5         0       3   \n",
       "..           ...       ...     ...   \n",
       "886          887         0       2   \n",
       "887          888         1       1   \n",
       "888          889         0       3   \n",
       "889          890         1       1   \n",
       "890          891         0       3   \n",
       "\n",
       "                                                  Name     Sex   Age  SibSp  \\\n",
       "0                              Braund, Mr. Owen Harris    male  22.0      1   \n",
       "1    Cumings, Mrs. John Bradley (Florence Briggs Th...  female  38.0      1   \n",
       "2                               Heikkinen, Miss. Laina  female  26.0      0   \n",
       "3         Futrelle, Mrs. Jacques Heath (Lily May Peel)  female  35.0      1   \n",
       "4                             Allen, Mr. William Henry    male  35.0      0   \n",
       "..                                                 ...     ...   ...    ...   \n",
       "886                              Montvila, Rev. Juozas    male  27.0      0   \n",
       "887                       Graham, Miss. Margaret Edith  female  19.0      0   \n",
       "888           Johnston, Miss. Catherine Helen \"Carrie\"  female   NaN      1   \n",
       "889                              Behr, Mr. Karl Howell    male  26.0      0   \n",
       "890                                Dooley, Mr. Patrick    male  32.0      0   \n",
       "\n",
       "     Parch            Ticket     Fare Cabin Embarked  \n",
       "0        0         A/5 21171   7.2500   NaN        S  \n",
       "1        0          PC 17599  71.2833   C85        C  \n",
       "2        0  STON/O2. 3101282   7.9250   NaN        S  \n",
       "3        0            113803  53.1000  C123        S  \n",
       "4        0            373450   8.0500   NaN        S  \n",
       "..     ...               ...      ...   ...      ...  \n",
       "886      0            211536  13.0000   NaN        S  \n",
       "887      0            112053  30.0000   B42        S  \n",
       "888      2        W./C. 6607  23.4500   NaN        S  \n",
       "889      0            111369  30.0000  C148        C  \n",
       "890      0            370376   7.7500   NaN        Q  \n",
       "\n",
       "[891 rows x 12 columns]"
      ]
     },
     "execution_count": 6,
     "metadata": {},
     "output_type": "execute_result"
    }
   ],
   "source": [
    "df_titanic"
   ]
  },
  {
   "cell_type": "markdown",
   "metadata": {},
   "source": [
    "## GroupBy e Agregadores"
   ]
  },
  {
   "cell_type": "markdown",
   "metadata": {},
   "source": [
    "Podemos utilizar o __GroupBy__, para fsazer alguns cálculos de agrupamentos específicos (bem parecido com o que fazemos no SQL):"
   ]
  },
  {
   "cell_type": "code",
   "execution_count": null,
   "metadata": {},
   "outputs": [],
   "source": [
    "# Calcula a média de Idade por Sexo\n",
    "## para agruparmos usamos o metodo group by\n",
    "## no parentesis passamos uma coluna ou um conjunto de colunas\n",
    "## Depois precisamos passar entre colchetes o campo que vamos agrupar\n",
    "## Por fim passamos a metrica que quermos\n",
    "\n"
   ]
  },
  {
   "cell_type": "markdown",
   "metadata": {},
   "source": [
    "Pode-se também calcular mais de uma métrica por vez utilizando o __GroupBy__ combinado com o método __agg:__"
   ]
  },
  {
   "cell_type": "code",
   "execution_count": null,
   "metadata": {},
   "outputs": [],
   "source": [
    "# Calculo das Métricas para o Agrupamento Sexo e Idade\n",
    "# Quero calcular muitas metricas na mesma linha\n",
    "# podemos usar o .agg e passar uma lista de metricas\n",
    "\n"
   ]
  },
  {
   "cell_type": "code",
   "execution_count": null,
   "metadata": {},
   "outputs": [],
   "source": [
    "# Com mais de uma categoria dentro do Groupby\n",
    "# Quero ter mais de uma categoria\n",
    "# Podemos passar no parentesis uma lista de colunas também\n",
    "\n"
   ]
  },
  {
   "cell_type": "code",
   "execution_count": null,
   "metadata": {},
   "outputs": [],
   "source": [
    "# Mais de uma categoria e mais de uma métrica calculando\n",
    "# Podemos calcular para um conjunto de dados diferentes as metricas\n",
    "# basta passar no indexador (no colchete) uma lista de colunas\n",
    "\n"
   ]
  },
  {
   "cell_type": "markdown",
   "metadata": {},
   "source": [
    "## Exercício"
   ]
  },
  {
   "cell_type": "markdown",
   "metadata": {},
   "source": [
    "1 - Utilize uma função agregada para saber a passagem média e também a soma do dinheiro gasto em passagens por ponto de embarque\n",
    "\n",
    "2 - Utilize o pivot table para calcular o total de dinheiro gasto em passagens por homens e mulheres de classe"
   ]
  },
  {
   "cell_type": "code",
   "execution_count": 12,
   "metadata": {},
   "outputs": [
    {
     "data": {
      "text/html": [
       "<div>\n",
       "<style scoped>\n",
       "    .dataframe tbody tr th:only-of-type {\n",
       "        vertical-align: middle;\n",
       "    }\n",
       "\n",
       "    .dataframe tbody tr th {\n",
       "        vertical-align: top;\n",
       "    }\n",
       "\n",
       "    .dataframe thead th {\n",
       "        text-align: right;\n",
       "    }\n",
       "</style>\n",
       "<table border=\"1\" class=\"dataframe\">\n",
       "  <thead>\n",
       "    <tr style=\"text-align: right;\">\n",
       "      <th></th>\n",
       "      <th>mean</th>\n",
       "      <th>sum</th>\n",
       "    </tr>\n",
       "    <tr>\n",
       "      <th>Embarked</th>\n",
       "      <th></th>\n",
       "      <th></th>\n",
       "    </tr>\n",
       "  </thead>\n",
       "  <tbody>\n",
       "    <tr>\n",
       "      <th>C</th>\n",
       "      <td>59.954144</td>\n",
       "      <td>10072.2962</td>\n",
       "    </tr>\n",
       "    <tr>\n",
       "      <th>Q</th>\n",
       "      <td>13.276030</td>\n",
       "      <td>1022.2543</td>\n",
       "    </tr>\n",
       "    <tr>\n",
       "      <th>S</th>\n",
       "      <td>27.079812</td>\n",
       "      <td>17439.3988</td>\n",
       "    </tr>\n",
       "  </tbody>\n",
       "</table>\n",
       "</div>"
      ],
      "text/plain": [
       "               mean         sum\n",
       "Embarked                       \n",
       "C         59.954144  10072.2962\n",
       "Q         13.276030   1022.2543\n",
       "S         27.079812  17439.3988"
      ]
     },
     "execution_count": 12,
     "metadata": {},
     "output_type": "execute_result"
    }
   ],
   "source": [
    "df_titanic.groupby(['Embarked'])['Fare'].agg([\"mean\", 'sum'])"
   ]
  },
  {
   "cell_type": "code",
   "execution_count": 11,
   "metadata": {},
   "outputs": [
    {
     "data": {
      "text/html": [
       "<div>\n",
       "<style scoped>\n",
       "    .dataframe tbody tr th:only-of-type {\n",
       "        vertical-align: middle;\n",
       "    }\n",
       "\n",
       "    .dataframe tbody tr th {\n",
       "        vertical-align: top;\n",
       "    }\n",
       "\n",
       "    .dataframe thead tr th {\n",
       "        text-align: left;\n",
       "    }\n",
       "\n",
       "    .dataframe thead tr:last-of-type th {\n",
       "        text-align: right;\n",
       "    }\n",
       "</style>\n",
       "<table border=\"1\" class=\"dataframe\">\n",
       "  <thead>\n",
       "    <tr>\n",
       "      <th>Sex</th>\n",
       "      <th colspan=\"3\" halign=\"left\">female</th>\n",
       "      <th colspan=\"3\" halign=\"left\">male</th>\n",
       "    </tr>\n",
       "    <tr>\n",
       "      <th>Pclass</th>\n",
       "      <th>1</th>\n",
       "      <th>2</th>\n",
       "      <th>3</th>\n",
       "      <th>1</th>\n",
       "      <th>2</th>\n",
       "      <th>3</th>\n",
       "    </tr>\n",
       "    <tr>\n",
       "      <th>Embarked</th>\n",
       "      <th></th>\n",
       "      <th></th>\n",
       "      <th></th>\n",
       "      <th></th>\n",
       "      <th></th>\n",
       "      <th></th>\n",
       "    </tr>\n",
       "  </thead>\n",
       "  <tbody>\n",
       "    <tr>\n",
       "      <th>C</th>\n",
       "      <td>4972.5333</td>\n",
       "      <td>176.8792</td>\n",
       "      <td>337.9833</td>\n",
       "      <td>3928.5417</td>\n",
       "      <td>254.2125</td>\n",
       "      <td>402.1462</td>\n",
       "    </tr>\n",
       "    <tr>\n",
       "      <th>Q</th>\n",
       "      <td>90.0000</td>\n",
       "      <td>24.7000</td>\n",
       "      <td>340.1585</td>\n",
       "      <td>90.0000</td>\n",
       "      <td>12.3500</td>\n",
       "      <td>465.0458</td>\n",
       "    </tr>\n",
       "    <tr>\n",
       "      <th>S</th>\n",
       "      <td>4753.2917</td>\n",
       "      <td>1468.1500</td>\n",
       "      <td>1642.9668</td>\n",
       "      <td>4183.0458</td>\n",
       "      <td>1865.5500</td>\n",
       "      <td>3526.3945</td>\n",
       "    </tr>\n",
       "  </tbody>\n",
       "</table>\n",
       "</div>"
      ],
      "text/plain": [
       "Sex          female                             male                      \n",
       "Pclass            1          2          3          1          2          3\n",
       "Embarked                                                                  \n",
       "C         4972.5333   176.8792   337.9833  3928.5417   254.2125   402.1462\n",
       "Q           90.0000    24.7000   340.1585    90.0000    12.3500   465.0458\n",
       "S         4753.2917  1468.1500  1642.9668  4183.0458  1865.5500  3526.3945"
      ]
     },
     "execution_count": 11,
     "metadata": {},
     "output_type": "execute_result"
    }
   ],
   "source": [
    "pd.pivot_table(df_titanic, values='Fare', index='Embarked', columns=(['Sex','Pclass']), aggfunc=np.sum)"
   ]
  },
  {
   "cell_type": "code",
   "execution_count": null,
   "metadata": {},
   "outputs": [],
   "source": []
  },
  {
   "cell_type": "markdown",
   "metadata": {},
   "source": [
    "<img src=\"data:image/jpeg;base64,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\" width=600>"
   ]
  },
  {
   "cell_type": "markdown",
   "metadata": {},
   "source": [
    "## "
   ]
  },
  {
   "cell_type": "markdown",
   "metadata": {},
   "source": [
    "## Seaborn"
   ]
  },
  {
   "cell_type": "markdown",
   "metadata": {},
   "source": [
    "Quando falamos de visualização de dados, além do __Matplotlib__ uma das principais bibliotecas que temos para utilizar é o __Seaborn__.<br>\n",
    "<br>\n",
    "O __Seaborn__ é uma biblioteca baseado no próprio _Matplotlib_, mas focada em gráficos de alta performance, ou seja iremos fazer gráficos de uma maneira __mais simples__ e com uma __riqueza maior nas informações__ que queremos passar com os gráficos."
   ]
  },
  {
   "cell_type": "markdown",
   "metadata": {},
   "source": [
    "Para instalar o __Seaborn__ no seu Jupyter Notebooks (quando não tenha já instalado), precisa ser descomentar e rodar o código abaixo:"
   ]
  },
  {
   "cell_type": "code",
   "execution_count": 7,
   "metadata": {
    "ExecuteTime": {
     "end_time": "2021-06-17T22:31:37.905661Z",
     "start_time": "2021-06-17T22:31:37.886200Z"
    }
   },
   "outputs": [
    {
     "name": "stdout",
     "output_type": "stream",
     "text": [
      "Collecting seaborn\n",
      "  Using cached seaborn-0.11.2-py3-none-any.whl (292 kB)\n",
      "Requirement already satisfied: pandas>=0.23 in /home/alexsander-vieira/.local/lib/python3.8/site-packages (from seaborn) (1.4.2)\n",
      "Requirement already satisfied: matplotlib>=2.2 in /usr/lib/python3/dist-packages (from seaborn) (3.1.2)\n",
      "Collecting scipy>=1.0\n",
      "  Downloading scipy-1.8.1-cp38-cp38-manylinux_2_17_x86_64.manylinux2014_x86_64.whl (41.6 MB)\n",
      "\u001b[K     |████████████████████████████████| 41.6 MB 2.8 MB/s eta 0:00:01    |▍                               | 501 kB 381 kB/s eta 0:01:48     |█████████████████▉              | 23.2 MB 622 kB/s eta 0:00:30     |███████████████████████████▌    | 35.7 MB 3.4 MB/s eta 0:00:02     |██████████████████████████████▏ | 39.3 MB 3.3 MB/s eta 0:00:01\n",
      "\u001b[?25hRequirement already satisfied: numpy>=1.15 in /home/alexsander-vieira/.local/lib/python3.8/site-packages (from seaborn) (1.22.4)\n",
      "Requirement already satisfied: pytz>=2020.1 in /home/alexsander-vieira/.local/lib/python3.8/site-packages (from pandas>=0.23->seaborn) (2022.1)\n",
      "Requirement already satisfied: python-dateutil>=2.8.1 in /home/alexsander-vieira/.local/lib/python3.8/site-packages (from pandas>=0.23->seaborn) (2.8.2)\n",
      "Requirement already satisfied: six>=1.5 in /usr/lib/python3/dist-packages (from python-dateutil>=2.8.1->pandas>=0.23->seaborn) (1.14.0)\n",
      "Installing collected packages: scipy, seaborn\n",
      "Successfully installed scipy-1.8.1 seaborn-0.11.2\n"
     ]
    }
   ],
   "source": [
    "!pip3 install seaborn"
   ]
  },
  {
   "cell_type": "markdown",
   "metadata": {},
   "source": [
    "Primeiro passo será importarmos a bibloteca para o notebook:"
   ]
  },
  {
   "cell_type": "code",
   "execution_count": 8,
   "metadata": {
    "ExecuteTime": {
     "end_time": "2021-06-17T21:30:39.122448Z",
     "start_time": "2021-06-17T21:30:21.276989Z"
    }
   },
   "outputs": [],
   "source": [
    "# Carregando a Biblioteca\n",
    "import seaborn as sns"
   ]
  },
  {
   "cell_type": "code",
   "execution_count": 16,
   "metadata": {},
   "outputs": [
    {
     "name": "stdout",
     "output_type": "stream",
     "text": [
      "Collecting jupyter_contrib_nbextensions\n",
      "  Downloading jupyter_contrib_nbextensions-0.5.1-py2.py3-none-any.whl (20.9 MB)\n",
      "\u001b[K     |████████████████████████████████| 20.9 MB 413 kB/s eta 0:00:01\n",
      "\u001b[?25hCollecting jupyter-nbextensions-configurator>=0.4.0\n",
      "  Downloading jupyter_nbextensions_configurator-0.4.1.tar.gz (479 kB)\n",
      "\u001b[K     |████████████████████████████████| 479 kB 6.6 MB/s eta 0:00:01\n",
      "\u001b[?25hCollecting jupyter-latex-envs>=1.3.8\n",
      "  Downloading jupyter_latex_envs-1.4.6.tar.gz (861 kB)\n",
      "\u001b[K     |████████████████████████████████| 861 kB 6.8 MB/s eta 0:00:01\n",
      "\u001b[?25hRequirement already satisfied: notebook>=4.0 in /home/alexsander-vieira/.local/lib/python3.8/site-packages (from jupyter_contrib_nbextensions) (6.4.12)\n",
      "Requirement already satisfied: tornado in /home/alexsander-vieira/.local/lib/python3.8/site-packages (from jupyter_contrib_nbextensions) (6.1)\n",
      "Requirement already satisfied: traitlets>=4.1 in /home/alexsander-vieira/.local/lib/python3.8/site-packages (from jupyter_contrib_nbextensions) (5.2.2.post1)\n",
      "Requirement already satisfied: nbconvert>=4.2 in /home/alexsander-vieira/.local/lib/python3.8/site-packages (from jupyter_contrib_nbextensions) (6.5.0)\n",
      "Collecting lxml\n",
      "  Downloading lxml-4.9.0-cp38-cp38-manylinux_2_17_x86_64.manylinux2014_x86_64.manylinux_2_24_x86_64.whl (6.9 MB)\n",
      "\u001b[K     |████████████████████████████████| 6.9 MB 6.3 MB/s eta 0:00:01\n",
      "\u001b[?25hCollecting jupyter-contrib-core>=0.3.3\n",
      "  Downloading jupyter_contrib_core-0.3.3-py2.py3-none-any.whl (18 kB)\n",
      "Requirement already satisfied: pyyaml in /usr/lib/python3/dist-packages (from jupyter_contrib_nbextensions) (5.3.1)\n",
      "Requirement already satisfied: jupyter-core in /home/alexsander-vieira/.local/lib/python3.8/site-packages (from jupyter_contrib_nbextensions) (4.10.0)\n",
      "Collecting jupyter-highlight-selected-word>=0.1.1\n",
      "  Downloading jupyter_highlight_selected_word-0.2.0-py2.py3-none-any.whl (11 kB)\n",
      "Requirement already satisfied: ipython-genutils in /usr/lib/python3/dist-packages (from jupyter_contrib_nbextensions) (0.2.0)\n",
      "Requirement already satisfied: ipython in /home/alexsander-vieira/.local/lib/python3.8/site-packages (from jupyter-latex-envs>=1.3.8->jupyter_contrib_nbextensions) (8.4.0)\n",
      "Requirement already satisfied: Send2Trash>=1.8.0 in /home/alexsander-vieira/.local/lib/python3.8/site-packages (from notebook>=4.0->jupyter_contrib_nbextensions) (1.8.0)\n",
      "Requirement already satisfied: jinja2 in /home/alexsander-vieira/.local/lib/python3.8/site-packages (from notebook>=4.0->jupyter_contrib_nbextensions) (3.1.2)\n",
      "Requirement already satisfied: argon2-cffi in /home/alexsander-vieira/.local/lib/python3.8/site-packages (from notebook>=4.0->jupyter_contrib_nbextensions) (21.3.0)\n",
      "Requirement already satisfied: jupyter-client>=5.3.4 in /home/alexsander-vieira/.local/lib/python3.8/site-packages (from notebook>=4.0->jupyter_contrib_nbextensions) (7.3.4)\n",
      "Requirement already satisfied: nbformat in /home/alexsander-vieira/.local/lib/python3.8/site-packages (from notebook>=4.0->jupyter_contrib_nbextensions) (5.4.0)\n",
      "Requirement already satisfied: nest-asyncio>=1.5 in /home/alexsander-vieira/.local/lib/python3.8/site-packages (from notebook>=4.0->jupyter_contrib_nbextensions) (1.5.5)\n",
      "Requirement already satisfied: terminado>=0.8.3 in /home/alexsander-vieira/.local/lib/python3.8/site-packages (from notebook>=4.0->jupyter_contrib_nbextensions) (0.15.0)\n",
      "Requirement already satisfied: prometheus-client in /home/alexsander-vieira/.local/lib/python3.8/site-packages (from notebook>=4.0->jupyter_contrib_nbextensions) (0.14.1)\n",
      "Requirement already satisfied: pyzmq>=17 in /home/alexsander-vieira/.local/lib/python3.8/site-packages (from notebook>=4.0->jupyter_contrib_nbextensions) (23.1.0)\n",
      "Requirement already satisfied: ipykernel in /home/alexsander-vieira/.local/lib/python3.8/site-packages (from notebook>=4.0->jupyter_contrib_nbextensions) (6.13.1)\n",
      "Requirement already satisfied: entrypoints>=0.2.2 in /usr/lib/python3/dist-packages (from nbconvert>=4.2->jupyter_contrib_nbextensions) (0.3)\n",
      "Requirement already satisfied: defusedxml in /home/alexsander-vieira/.local/lib/python3.8/site-packages (from nbconvert>=4.2->jupyter_contrib_nbextensions) (0.7.1)\n",
      "Requirement already satisfied: MarkupSafe>=2.0 in /home/alexsander-vieira/.local/lib/python3.8/site-packages (from nbconvert>=4.2->jupyter_contrib_nbextensions) (2.1.1)\n",
      "Requirement already satisfied: beautifulsoup4 in /home/alexsander-vieira/.local/lib/python3.8/site-packages (from nbconvert>=4.2->jupyter_contrib_nbextensions) (4.11.1)\n",
      "Requirement already satisfied: bleach in /home/alexsander-vieira/.local/lib/python3.8/site-packages (from nbconvert>=4.2->jupyter_contrib_nbextensions) (5.0.0)\n",
      "Requirement already satisfied: pandocfilters>=1.4.1 in /home/alexsander-vieira/.local/lib/python3.8/site-packages (from nbconvert>=4.2->jupyter_contrib_nbextensions) (1.5.0)\n",
      "Requirement already satisfied: tinycss2 in /home/alexsander-vieira/.local/lib/python3.8/site-packages (from nbconvert>=4.2->jupyter_contrib_nbextensions) (1.1.1)\n",
      "Requirement already satisfied: jupyterlab-pygments in /home/alexsander-vieira/.local/lib/python3.8/site-packages (from nbconvert>=4.2->jupyter_contrib_nbextensions) (0.2.2)\n",
      "Requirement already satisfied: mistune<2,>=0.8.1 in /home/alexsander-vieira/.local/lib/python3.8/site-packages (from nbconvert>=4.2->jupyter_contrib_nbextensions) (0.8.4)\n",
      "Requirement already satisfied: nbclient>=0.5.0 in /home/alexsander-vieira/.local/lib/python3.8/site-packages (from nbconvert>=4.2->jupyter_contrib_nbextensions) (0.5.13)\n",
      "Requirement already satisfied: pygments>=2.4.1 in /home/alexsander-vieira/.local/lib/python3.8/site-packages (from nbconvert>=4.2->jupyter_contrib_nbextensions) (2.12.0)\n",
      "Requirement already satisfied: packaging in /home/alexsander-vieira/.local/lib/python3.8/site-packages (from nbconvert>=4.2->jupyter_contrib_nbextensions) (21.3)\n",
      "Requirement already satisfied: setuptools in /usr/lib/python3/dist-packages (from jupyter-contrib-core>=0.3.3->jupyter_contrib_nbextensions) (45.2.0)\n",
      "Requirement already satisfied: pickleshare in /home/alexsander-vieira/.local/lib/python3.8/site-packages (from ipython->jupyter-latex-envs>=1.3.8->jupyter_contrib_nbextensions) (0.7.5)\n",
      "Requirement already satisfied: jedi>=0.16 in /home/alexsander-vieira/.local/lib/python3.8/site-packages (from ipython->jupyter-latex-envs>=1.3.8->jupyter_contrib_nbextensions) (0.18.1)\n",
      "Requirement already satisfied: pexpect>4.3; sys_platform != \"win32\" in /usr/lib/python3/dist-packages (from ipython->jupyter-latex-envs>=1.3.8->jupyter_contrib_nbextensions) (4.6.0)\n",
      "Requirement already satisfied: prompt-toolkit!=3.0.0,!=3.0.1,<3.1.0,>=2.0.0 in /home/alexsander-vieira/.local/lib/python3.8/site-packages (from ipython->jupyter-latex-envs>=1.3.8->jupyter_contrib_nbextensions) (3.0.29)\n",
      "Requirement already satisfied: stack-data in /home/alexsander-vieira/.local/lib/python3.8/site-packages (from ipython->jupyter-latex-envs>=1.3.8->jupyter_contrib_nbextensions) (0.2.0)\n",
      "Requirement already satisfied: backcall in /home/alexsander-vieira/.local/lib/python3.8/site-packages (from ipython->jupyter-latex-envs>=1.3.8->jupyter_contrib_nbextensions) (0.2.0)\n",
      "Requirement already satisfied: decorator in /usr/lib/python3/dist-packages (from ipython->jupyter-latex-envs>=1.3.8->jupyter_contrib_nbextensions) (4.4.2)\n",
      "Requirement already satisfied: matplotlib-inline in /home/alexsander-vieira/.local/lib/python3.8/site-packages (from ipython->jupyter-latex-envs>=1.3.8->jupyter_contrib_nbextensions) (0.1.3)\n",
      "Requirement already satisfied: argon2-cffi-bindings in /home/alexsander-vieira/.local/lib/python3.8/site-packages (from argon2-cffi->notebook>=4.0->jupyter_contrib_nbextensions) (21.2.0)\n",
      "Requirement already satisfied: python-dateutil>=2.8.2 in /home/alexsander-vieira/.local/lib/python3.8/site-packages (from jupyter-client>=5.3.4->notebook>=4.0->jupyter_contrib_nbextensions) (2.8.2)\n",
      "Requirement already satisfied: fastjsonschema in /home/alexsander-vieira/.local/lib/python3.8/site-packages (from nbformat->notebook>=4.0->jupyter_contrib_nbextensions) (2.15.3)\n",
      "Requirement already satisfied: jsonschema>=2.6 in /home/alexsander-vieira/.local/lib/python3.8/site-packages (from nbformat->notebook>=4.0->jupyter_contrib_nbextensions) (4.6.0)\n",
      "Requirement already satisfied: ptyprocess; os_name != \"nt\" in /home/alexsander-vieira/.local/lib/python3.8/site-packages (from terminado>=0.8.3->notebook>=4.0->jupyter_contrib_nbextensions) (0.7.0)\n",
      "Requirement already satisfied: debugpy>=1.0 in /home/alexsander-vieira/.local/lib/python3.8/site-packages (from ipykernel->notebook>=4.0->jupyter_contrib_nbextensions) (1.6.0)\n",
      "Requirement already satisfied: psutil in /home/alexsander-vieira/.local/lib/python3.8/site-packages (from ipykernel->notebook>=4.0->jupyter_contrib_nbextensions) (5.9.1)\n",
      "Requirement already satisfied: soupsieve>1.2 in /home/alexsander-vieira/.local/lib/python3.8/site-packages (from beautifulsoup4->nbconvert>=4.2->jupyter_contrib_nbextensions) (2.3.2.post1)\n",
      "Requirement already satisfied: webencodings in /home/alexsander-vieira/.local/lib/python3.8/site-packages (from bleach->nbconvert>=4.2->jupyter_contrib_nbextensions) (0.5.1)\n",
      "Requirement already satisfied: six>=1.9.0 in /usr/lib/python3/dist-packages (from bleach->nbconvert>=4.2->jupyter_contrib_nbextensions) (1.14.0)\n",
      "Requirement already satisfied: pyparsing!=3.0.5,>=2.0.2 in /home/alexsander-vieira/.local/lib/python3.8/site-packages (from packaging->nbconvert>=4.2->jupyter_contrib_nbextensions) (3.0.9)\n",
      "Requirement already satisfied: parso<0.9.0,>=0.8.0 in /home/alexsander-vieira/.local/lib/python3.8/site-packages (from jedi>=0.16->ipython->jupyter-latex-envs>=1.3.8->jupyter_contrib_nbextensions) (0.8.3)\n",
      "Requirement already satisfied: wcwidth in /home/alexsander-vieira/.local/lib/python3.8/site-packages (from prompt-toolkit!=3.0.0,!=3.0.1,<3.1.0,>=2.0.0->ipython->jupyter-latex-envs>=1.3.8->jupyter_contrib_nbextensions) (0.2.5)\n",
      "Requirement already satisfied: asttokens in /home/alexsander-vieira/.local/lib/python3.8/site-packages (from stack-data->ipython->jupyter-latex-envs>=1.3.8->jupyter_contrib_nbextensions) (2.0.5)\n",
      "Requirement already satisfied: executing in /home/alexsander-vieira/.local/lib/python3.8/site-packages (from stack-data->ipython->jupyter-latex-envs>=1.3.8->jupyter_contrib_nbextensions) (0.8.3)\n",
      "Requirement already satisfied: pure-eval in /home/alexsander-vieira/.local/lib/python3.8/site-packages (from stack-data->ipython->jupyter-latex-envs>=1.3.8->jupyter_contrib_nbextensions) (0.2.2)\n",
      "Requirement already satisfied: cffi>=1.0.1 in /home/alexsander-vieira/.local/lib/python3.8/site-packages (from argon2-cffi-bindings->argon2-cffi->notebook>=4.0->jupyter_contrib_nbextensions) (1.15.0)\n",
      "Requirement already satisfied: importlib-resources>=1.4.0; python_version < \"3.9\" in /home/alexsander-vieira/.local/lib/python3.8/site-packages (from jsonschema>=2.6->nbformat->notebook>=4.0->jupyter_contrib_nbextensions) (5.7.1)\n",
      "Requirement already satisfied: attrs>=17.4.0 in /home/alexsander-vieira/.local/lib/python3.8/site-packages (from jsonschema>=2.6->nbformat->notebook>=4.0->jupyter_contrib_nbextensions) (21.4.0)\n",
      "Requirement already satisfied: pyrsistent!=0.17.0,!=0.17.1,!=0.17.2,>=0.14.0 in /home/alexsander-vieira/.local/lib/python3.8/site-packages (from jsonschema>=2.6->nbformat->notebook>=4.0->jupyter_contrib_nbextensions) (0.18.1)\n",
      "Requirement already satisfied: pycparser in /home/alexsander-vieira/.local/lib/python3.8/site-packages (from cffi>=1.0.1->argon2-cffi-bindings->argon2-cffi->notebook>=4.0->jupyter_contrib_nbextensions) (2.21)\n",
      "Requirement already satisfied: zipp>=3.1.0; python_version < \"3.10\" in /home/alexsander-vieira/.local/lib/python3.8/site-packages (from importlib-resources>=1.4.0; python_version < \"3.9\"->jsonschema>=2.6->nbformat->notebook>=4.0->jupyter_contrib_nbextensions) (3.8.0)\n",
      "Building wheels for collected packages: jupyter-nbextensions-configurator, jupyter-latex-envs\n",
      "  Building wheel for jupyter-nbextensions-configurator (setup.py) ... \u001b[?25ldone\n",
      "\u001b[?25h  Created wheel for jupyter-nbextensions-configurator: filename=jupyter_nbextensions_configurator-0.4.1-py2.py3-none-any.whl size=465825 sha256=74088bb6e045b5b5198bf0520eab7846196177e720ad20268ce681616936684c\n",
      "  Stored in directory: /home/alexsander-vieira/.cache/pip/wheels/e3/3a/b3/a709b437602c3807f079f0c35ccba3e1adf9af6f2e6b0ebfea\n",
      "  Building wheel for jupyter-latex-envs (setup.py) ... \u001b[?25ldone\n",
      "\u001b[?25h  Created wheel for jupyter-latex-envs: filename=jupyter_latex_envs-1.4.6-py2.py3-none-any.whl size=963395 sha256=6468c516a81df23b6c9e615ef96a8b987b4b8d99adb7c078313ba51cb9858f2d\n",
      "  Stored in directory: /home/alexsander-vieira/.cache/pip/wheels/4d/ba/f4/b8c0941055519ebc0f27e85bfe2bb223f1a59a3b8bfc5c7515\n",
      "Successfully built jupyter-nbextensions-configurator jupyter-latex-envs\n",
      "Installing collected packages: jupyter-contrib-core, jupyter-nbextensions-configurator, jupyter-latex-envs, lxml, jupyter-highlight-selected-word, jupyter-contrib-nbextensions\n",
      "Successfully installed jupyter-contrib-core-0.3.3 jupyter-contrib-nbextensions-0.5.1 jupyter-highlight-selected-word-0.2.0 jupyter-latex-envs-1.4.6 jupyter-nbextensions-configurator-0.4.1 lxml-4.9.0\n",
      "Note: you may need to restart the kernel to use updated packages.\n"
     ]
    }
   ],
   "source": [
    "pip install jupyter_contrib_nbextensions"
   ]
  },
  {
   "cell_type": "code",
   "execution_count": 18,
   "metadata": {},
   "outputs": [
    {
     "ename": "SyntaxError",
     "evalue": "invalid syntax (1065776978.py, line 1)",
     "output_type": "error",
     "traceback": [
      "\u001b[0;36m  Input \u001b[0;32mIn [18]\u001b[0;36m\u001b[0m\n\u001b[0;31m    jupyter nbextension enable\u001b[0m\n\u001b[0m            ^\u001b[0m\n\u001b[0;31mSyntaxError\u001b[0m\u001b[0;31m:\u001b[0m invalid syntax\n"
     ]
    }
   ],
   "source": [
    "jupyter nbextension enable "
   ]
  },
  {
   "cell_type": "markdown",
   "metadata": {},
   "source": [
    "Além do __Seaborn__, vamos importar algumas outras bibliotecas que serão úteis durante a aula:"
   ]
  },
  {
   "cell_type": "code",
   "execution_count": 9,
   "metadata": {},
   "outputs": [],
   "source": [
    "# Carregando outras bibliotecas bem úteis\n",
    "import matplotlib.pyplot as plt"
   ]
  },
  {
   "cell_type": "markdown",
   "metadata": {},
   "source": [
    "## "
   ]
  },
  {
   "cell_type": "markdown",
   "metadata": {},
   "source": [
    "## Arquivos de Datasets do Seaborn"
   ]
  },
  {
   "cell_type": "markdown",
   "metadata": {},
   "source": [
    "Utilizando a função __load_dataset__, conseguimos carregar alguns datasets bem conhecidos na aprendizagem de Data Science como por exemplo o _Titanic_, _Tips_ entre outros. Podemos consultar todos os datasets disponíveis usando a função __get_dataset_names__:"
   ]
  },
  {
   "cell_type": "code",
   "execution_count": 10,
   "metadata": {},
   "outputs": [
    {
     "data": {
      "text/plain": [
       "['anagrams',\n",
       " 'anscombe',\n",
       " 'attention',\n",
       " 'brain_networks',\n",
       " 'car_crashes',\n",
       " 'diamonds',\n",
       " 'dots',\n",
       " 'exercise',\n",
       " 'flights',\n",
       " 'fmri',\n",
       " 'gammas',\n",
       " 'geyser',\n",
       " 'iris',\n",
       " 'mpg',\n",
       " 'penguins',\n",
       " 'planets',\n",
       " 'taxis',\n",
       " 'tips',\n",
       " 'titanic']"
      ]
     },
     "execution_count": 10,
     "metadata": {},
     "output_type": "execute_result"
    }
   ],
   "source": [
    "# usando a função get_dataset_names para saber todos os datasets disponíveis\n",
    "sns.get_dataset_names()"
   ]
  },
  {
   "cell_type": "markdown",
   "metadata": {},
   "source": [
    "Vamos utilizar o dataset _Iris_ para começar as análises:"
   ]
  },
  {
   "cell_type": "code",
   "execution_count": 19,
   "metadata": {
    "ExecuteTime": {
     "end_time": "2021-06-17T22:35:16.970411Z",
     "start_time": "2021-06-17T22:35:16.824802Z"
    }
   },
   "outputs": [],
   "source": [
    "# Carrega o dataset Iris\n",
    "iris = sns.load_dataset('iris')"
   ]
  },
  {
   "cell_type": "markdown",
   "metadata": {},
   "source": [
    "O _Iris_ é um dataset bem conhecido sobre a classificação de 3 espécies de plantas: _setosa_, _virgínica_ e _versicolor_:<br><br>\n",
    "<img src=\"https://miro.medium.com/max/1000/1*Hh53mOF4Xy4eORjLilKOwA.png\" width = 800>"
   ]
  },
  {
   "cell_type": "markdown",
   "metadata": {},
   "source": [
    "Antes de partirmos para análises e novos gráficos de fato, vamos começar a exercitar as boas práticas quando trabalhamos com análise de dados:"
   ]
  },
  {
   "cell_type": "code",
   "execution_count": 12,
   "metadata": {},
   "outputs": [
    {
     "name": "stdout",
     "output_type": "stream",
     "text": [
      "<class 'pandas.core.frame.DataFrame'>\n",
      "RangeIndex: 150 entries, 0 to 149\n",
      "Data columns (total 5 columns):\n",
      " #   Column        Non-Null Count  Dtype  \n",
      "---  ------        --------------  -----  \n",
      " 0   sepal_length  150 non-null    float64\n",
      " 1   sepal_width   150 non-null    float64\n",
      " 2   petal_length  150 non-null    float64\n",
      " 3   petal_width   150 non-null    float64\n",
      " 4   species       150 non-null    object \n",
      "dtypes: float64(4), object(1)\n",
      "memory usage: 6.0+ KB\n"
     ]
    }
   ],
   "source": [
    "# Olhando sobre o DataFrame e seu preenchimento\n",
    "iris.info()"
   ]
  },
  {
   "cell_type": "code",
   "execution_count": 13,
   "metadata": {
    "ExecuteTime": {
     "end_time": "2021-06-17T22:35:33.315780Z",
     "start_time": "2021-06-17T22:35:33.284848Z"
    }
   },
   "outputs": [
    {
     "data": {
      "text/html": [
       "<div>\n",
       "<style scoped>\n",
       "    .dataframe tbody tr th:only-of-type {\n",
       "        vertical-align: middle;\n",
       "    }\n",
       "\n",
       "    .dataframe tbody tr th {\n",
       "        vertical-align: top;\n",
       "    }\n",
       "\n",
       "    .dataframe thead th {\n",
       "        text-align: right;\n",
       "    }\n",
       "</style>\n",
       "<table border=\"1\" class=\"dataframe\">\n",
       "  <thead>\n",
       "    <tr style=\"text-align: right;\">\n",
       "      <th></th>\n",
       "      <th>sepal_length</th>\n",
       "      <th>sepal_width</th>\n",
       "      <th>petal_length</th>\n",
       "      <th>petal_width</th>\n",
       "      <th>species</th>\n",
       "    </tr>\n",
       "  </thead>\n",
       "  <tbody>\n",
       "    <tr>\n",
       "      <th>0</th>\n",
       "      <td>5.1</td>\n",
       "      <td>3.5</td>\n",
       "      <td>1.4</td>\n",
       "      <td>0.2</td>\n",
       "      <td>setosa</td>\n",
       "    </tr>\n",
       "    <tr>\n",
       "      <th>1</th>\n",
       "      <td>4.9</td>\n",
       "      <td>3.0</td>\n",
       "      <td>1.4</td>\n",
       "      <td>0.2</td>\n",
       "      <td>setosa</td>\n",
       "    </tr>\n",
       "    <tr>\n",
       "      <th>2</th>\n",
       "      <td>4.7</td>\n",
       "      <td>3.2</td>\n",
       "      <td>1.3</td>\n",
       "      <td>0.2</td>\n",
       "      <td>setosa</td>\n",
       "    </tr>\n",
       "    <tr>\n",
       "      <th>3</th>\n",
       "      <td>4.6</td>\n",
       "      <td>3.1</td>\n",
       "      <td>1.5</td>\n",
       "      <td>0.2</td>\n",
       "      <td>setosa</td>\n",
       "    </tr>\n",
       "    <tr>\n",
       "      <th>4</th>\n",
       "      <td>5.0</td>\n",
       "      <td>3.6</td>\n",
       "      <td>1.4</td>\n",
       "      <td>0.2</td>\n",
       "      <td>setosa</td>\n",
       "    </tr>\n",
       "  </tbody>\n",
       "</table>\n",
       "</div>"
      ],
      "text/plain": [
       "   sepal_length  sepal_width  petal_length  petal_width species\n",
       "0           5.1          3.5           1.4          0.2  setosa\n",
       "1           4.9          3.0           1.4          0.2  setosa\n",
       "2           4.7          3.2           1.3          0.2  setosa\n",
       "3           4.6          3.1           1.5          0.2  setosa\n",
       "4           5.0          3.6           1.4          0.2  setosa"
      ]
     },
     "execution_count": 13,
     "metadata": {},
     "output_type": "execute_result"
    }
   ],
   "source": [
    "# Print das primeiras linhas do Iris\n",
    "iris.head()"
   ]
  },
  {
   "cell_type": "code",
   "execution_count": 14,
   "metadata": {
    "scrolled": true
   },
   "outputs": [
    {
     "data": {
      "text/html": [
       "<div>\n",
       "<style scoped>\n",
       "    .dataframe tbody tr th:only-of-type {\n",
       "        vertical-align: middle;\n",
       "    }\n",
       "\n",
       "    .dataframe tbody tr th {\n",
       "        vertical-align: top;\n",
       "    }\n",
       "\n",
       "    .dataframe thead th {\n",
       "        text-align: right;\n",
       "    }\n",
       "</style>\n",
       "<table border=\"1\" class=\"dataframe\">\n",
       "  <thead>\n",
       "    <tr style=\"text-align: right;\">\n",
       "      <th></th>\n",
       "      <th>sepal_length</th>\n",
       "      <th>sepal_width</th>\n",
       "      <th>petal_length</th>\n",
       "      <th>petal_width</th>\n",
       "    </tr>\n",
       "  </thead>\n",
       "  <tbody>\n",
       "    <tr>\n",
       "      <th>count</th>\n",
       "      <td>150.000000</td>\n",
       "      <td>150.000000</td>\n",
       "      <td>150.000000</td>\n",
       "      <td>150.000000</td>\n",
       "    </tr>\n",
       "    <tr>\n",
       "      <th>mean</th>\n",
       "      <td>5.843333</td>\n",
       "      <td>3.057333</td>\n",
       "      <td>3.758000</td>\n",
       "      <td>1.199333</td>\n",
       "    </tr>\n",
       "    <tr>\n",
       "      <th>std</th>\n",
       "      <td>0.828066</td>\n",
       "      <td>0.435866</td>\n",
       "      <td>1.765298</td>\n",
       "      <td>0.762238</td>\n",
       "    </tr>\n",
       "    <tr>\n",
       "      <th>min</th>\n",
       "      <td>4.300000</td>\n",
       "      <td>2.000000</td>\n",
       "      <td>1.000000</td>\n",
       "      <td>0.100000</td>\n",
       "    </tr>\n",
       "    <tr>\n",
       "      <th>25%</th>\n",
       "      <td>5.100000</td>\n",
       "      <td>2.800000</td>\n",
       "      <td>1.600000</td>\n",
       "      <td>0.300000</td>\n",
       "    </tr>\n",
       "    <tr>\n",
       "      <th>50%</th>\n",
       "      <td>5.800000</td>\n",
       "      <td>3.000000</td>\n",
       "      <td>4.350000</td>\n",
       "      <td>1.300000</td>\n",
       "    </tr>\n",
       "    <tr>\n",
       "      <th>75%</th>\n",
       "      <td>6.400000</td>\n",
       "      <td>3.300000</td>\n",
       "      <td>5.100000</td>\n",
       "      <td>1.800000</td>\n",
       "    </tr>\n",
       "    <tr>\n",
       "      <th>max</th>\n",
       "      <td>7.900000</td>\n",
       "      <td>4.400000</td>\n",
       "      <td>6.900000</td>\n",
       "      <td>2.500000</td>\n",
       "    </tr>\n",
       "  </tbody>\n",
       "</table>\n",
       "</div>"
      ],
      "text/plain": [
       "       sepal_length  sepal_width  petal_length  petal_width\n",
       "count    150.000000   150.000000    150.000000   150.000000\n",
       "mean       5.843333     3.057333      3.758000     1.199333\n",
       "std        0.828066     0.435866      1.765298     0.762238\n",
       "min        4.300000     2.000000      1.000000     0.100000\n",
       "25%        5.100000     2.800000      1.600000     0.300000\n",
       "50%        5.800000     3.000000      4.350000     1.300000\n",
       "75%        6.400000     3.300000      5.100000     1.800000\n",
       "max        7.900000     4.400000      6.900000     2.500000"
      ]
     },
     "execution_count": 14,
     "metadata": {},
     "output_type": "execute_result"
    }
   ],
   "source": [
    "# Levantando as principais métricas estatísticas para o DataFrame\n",
    "iris.describe()"
   ]
  },
  {
   "cell_type": "markdown",
   "metadata": {},
   "source": [
    "Vamos dar uma olhada como está dividido em cada uma das espécies da _Iris_:"
   ]
  },
  {
   "cell_type": "code",
   "execution_count": 15,
   "metadata": {
    "ExecuteTime": {
     "end_time": "2021-06-17T22:36:17.239736Z",
     "start_time": "2021-06-17T22:36:17.213799Z"
    },
    "scrolled": true
   },
   "outputs": [
    {
     "data": {
      "text/plain": [
       "setosa        50\n",
       "versicolor    50\n",
       "virginica     50\n",
       "Name: species, dtype: int64"
      ]
     },
     "execution_count": 15,
     "metadata": {},
     "output_type": "execute_result"
    }
   ],
   "source": [
    "# Value counts das categorias\n",
    "iris['species'].value_counts()"
   ]
  },
  {
   "cell_type": "markdown",
   "metadata": {},
   "source": [
    "##  "
   ]
  },
  {
   "cell_type": "markdown",
   "metadata": {},
   "source": [
    "## Seaborn x Matplotlib"
   ]
  },
  {
   "cell_type": "markdown",
   "metadata": {},
   "source": [
    "Primeiramente, vamos recordar como fazer um gráfico de dispersão usando o __Matplotlib__:"
   ]
  },
  {
   "cell_type": "code",
   "execution_count": null,
   "metadata": {
    "scrolled": true
   },
   "outputs": [],
   "source": [
    "# Ajustando o tamanho da Figura\n",
    "\n",
    "# Gráfico de Linha\n",
    "\n",
    "# Coloca o titulo\n",
    "\n",
    "# Titulo para eixo X\n",
    "\n",
    "# Titulo para eixo Y\n",
    "\n",
    "# Tamanho da fonte da grade X\n",
    "\n",
    "# Tamanho da fonte da grade Y\n",
    "\n",
    "# Colocando Grid no Gráfico\n",
    "\n",
    "# Mostra o nosso Gráfico\n",
    "plt.show()"
   ]
  },
  {
   "cell_type": "markdown",
   "metadata": {},
   "source": [
    "No __Seaborn__, podemos fazer o mesmo gráfico utilizando a função __scatterplot__: "
   ]
  },
  {
   "cell_type": "code",
   "execution_count": null,
   "metadata": {
    "ExecuteTime": {
     "end_time": "2021-06-17T22:43:53.458036Z",
     "start_time": "2021-06-17T22:43:52.661475Z"
    },
    "scrolled": false
   },
   "outputs": [],
   "source": [
    "# Ajustando o tamanho da Figura\n",
    "\n",
    "# Gráfico de Linha\n",
    "\n",
    "# Coloca o titulo\n",
    "\n",
    "# Titulo para eixo X\n",
    "\n",
    "# Titulo para eixo Y\n",
    "\n",
    "# Tamanho da fonte da grade X\n",
    "\n",
    "# Tamanho da fonte da grade Y\n",
    "\n",
    "# Colocando Grid no Gráfico\n",
    "\n",
    "# Mostra o nosso Gráfico\n",
    "plt.show()"
   ]
  },
  {
   "cell_type": "markdown",
   "metadata": {},
   "source": [
    "Mas então, a primeira pergunta é: __quais são as vantagens de usar o Seaborn ao invés do Matplotlib?__<br><br>\n",
    "Vamos imaginar que queremos fazer o mesmo gráfico mas separando as pelos tipos de _Iris_ (ou seja, separar pelas classes):"
   ]
  },
  {
   "cell_type": "code",
   "execution_count": null,
   "metadata": {
    "ExecuteTime": {
     "end_time": "2021-06-17T22:51:36.002846Z",
     "start_time": "2021-06-17T22:51:35.474209Z"
    },
    "scrolled": false
   },
   "outputs": [],
   "source": [
    "# Separe o DataFrame entre as 3 classes\n",
    "\n",
    "\n",
    "# Ajustando o tamanho da Figura\n",
    "plt.figure(figsize = (16,8))\n",
    "\n",
    "# Gráfico de Linha\n",
    "\n",
    "\n",
    "# Coloca o titulo\n",
    "\n",
    "# Titulo para eixo X\n",
    "\n",
    "# Titulo para eixo Y\n",
    "\n",
    "# Tamanho da fonte da grade X\n",
    "\n",
    "# Tamanho da fonte da grade Y\n",
    "\n",
    "# Colocando Grid no Gráfico\n",
    "\n",
    "# Colocando a Legenda do Gráfico\n",
    "\n",
    "# Mostra o nosso Gráfico\n",
    "plt.show()"
   ]
  },
  {
   "cell_type": "markdown",
   "metadata": {},
   "source": [
    "No __Seaborn__, sempre que quisermos quebrar um gráfico nas classes basta passar um parâmetro chamado __hue__:"
   ]
  },
  {
   "cell_type": "code",
   "execution_count": null,
   "metadata": {
    "scrolled": false
   },
   "outputs": [],
   "source": [
    "# Ajustando o tamanho da Figura\n",
    "\n",
    "# Gráfico de Linha\n",
    "\n",
    "# Coloca o titulo\n",
    "\n",
    "# Titulo para eixo X\n",
    "\n",
    "# Titulo para eixo Y\n",
    "\n",
    "# Tamanho da fonte da grade X\n",
    "\n",
    "# Tamanho da fonte da grade Y\n",
    "\n",
    "# Colocando Grid no Gráfico\n",
    "\n",
    "# Mostra o nosso Gráfico\n",
    "plt.show()"
   ]
  },
  {
   "cell_type": "markdown",
   "metadata": {},
   "source": [
    "E o __Seaborn__ nos permite customizar diversas detalhes do nosso gráfico:"
   ]
  },
  {
   "cell_type": "code",
   "execution_count": null,
   "metadata": {
    "scrolled": false
   },
   "outputs": [],
   "source": [
    "# Ajustando o tamanho da Figura\n",
    "plt.figure(figsize = (16,8))\n",
    "\n",
    "# Gráfico de Linha\n",
    "\n",
    "\n",
    "# Coloca o titulo\n",
    "\n",
    "# Titulo para eixo X\n",
    "\n",
    "# Titulo para eixo Y\n",
    "\n",
    "# Tamanho da fonte da grade X\n",
    "\n",
    "# Tamanho da fonte da grade Y\n",
    "\n",
    "# Colocando Grid no Gráfico\n",
    "\n",
    "# Mostra o nosso Gráfico\n",
    "plt.show()"
   ]
  },
  {
   "cell_type": "code",
   "execution_count": null,
   "metadata": {
    "scrolled": false
   },
   "outputs": [],
   "source": [
    "# Define a semente randômica\n",
    "\n",
    "# Cria um valor de size no DataFrame\n",
    "\n",
    "# Ajustando o tamanho da Figura\n",
    "\n",
    "# Escolhendo um Pallete de Cores\n",
    "\n",
    "# Passando um parâmetro de Size para o gráfico\n",
    "\n",
    "# Gráfico de Linha\n",
    "\n",
    "# Coloca o titulo\n",
    "\n",
    "# Titulo para eixo X\n",
    "\n",
    "# Titulo para eixo Y\n",
    "\n",
    "# Tamanho da fonte da grade X\n",
    "\n",
    "# Tamanho da fonte da grade Y\n",
    "\n",
    "# Colocando Grid no Gráfico\n",
    "\n",
    "# Mostra o nosso Gráfico\n",
    "plt.show()"
   ]
  },
  {
   "cell_type": "markdown",
   "metadata": {},
   "source": [
    "Um site bem interessante que vocês podem escolher cores para monta o Palette Cutsomizado é o [Coolors](https://coolors.co/)"
   ]
  },
  {
   "cell_type": "code",
   "execution_count": null,
   "metadata": {},
   "outputs": [],
   "source": [
    "titanic = sns.load_dataset('titanic')"
   ]
  },
  {
   "cell_type": "markdown",
   "metadata": {},
   "source": [
    "## Exercícios"
   ]
  },
  {
   "cell_type": "markdown",
   "metadata": {},
   "source": [
    "1 - Utilize o dataset do titanic, junto com a estratégia do scatter plot colorido (exemplos acima), para verificar se a idade em conjunto com a classe de passageiro é um bom classificador para sexo biologico\n",
    "\n",
    "2 - Utilize a mesma estratégia para verificar se a idade em conjunto com a classe de passageiro é um bom classificador para sobrevivencia"
   ]
  },
  {
   "cell_type": "code",
   "execution_count": null,
   "metadata": {},
   "outputs": [],
   "source": []
  },
  {
   "cell_type": "code",
   "execution_count": null,
   "metadata": {},
   "outputs": [],
   "source": []
  },
  {
   "cell_type": "markdown",
   "metadata": {},
   "source": [
    "## Outras Visualizações do Seaborn"
   ]
  },
  {
   "cell_type": "markdown",
   "metadata": {},
   "source": [
    "Vamos passar agora, por algumas das principais visualizações que acabam sendo utilizadas do __Seaborn__:"
   ]
  },
  {
   "cell_type": "markdown",
   "metadata": {},
   "source": [
    "### PairPlot"
   ]
  },
  {
   "cell_type": "code",
   "execution_count": null,
   "metadata": {},
   "outputs": [],
   "source": [
    "titanic"
   ]
  },
  {
   "cell_type": "code",
   "execution_count": null,
   "metadata": {},
   "outputs": [],
   "source": []
  },
  {
   "cell_type": "code",
   "execution_count": null,
   "metadata": {
    "ExecuteTime": {
     "end_time": "2021-06-17T23:16:30.985705Z",
     "start_time": "2021-06-17T23:16:16.243647Z"
    },
    "scrolled": false
   },
   "outputs": [],
   "source": [
    "# Cria o pairplot\n",
    "\n",
    "# Mostra o gráfico\n",
    "plt.show()"
   ]
  },
  {
   "cell_type": "markdown",
   "metadata": {},
   "source": [
    "##  "
   ]
  },
  {
   "cell_type": "markdown",
   "metadata": {},
   "source": [
    "### JointPlot"
   ]
  },
  {
   "cell_type": "code",
   "execution_count": null,
   "metadata": {
    "ExecuteTime": {
     "end_time": "2021-06-17T23:19:33.626229Z",
     "start_time": "2021-06-17T23:19:32.013499Z"
    },
    "scrolled": false
   },
   "outputs": [],
   "source": [
    "# Cria o Jointplot\n",
    "\n",
    "# Mostra o Gráfico\n",
    "plt.show()"
   ]
  },
  {
   "cell_type": "markdown",
   "metadata": {},
   "source": [
    "##  "
   ]
  },
  {
   "cell_type": "markdown",
   "metadata": {},
   "source": [
    "### Distplot e Histplot"
   ]
  },
  {
   "cell_type": "code",
   "execution_count": null,
   "metadata": {
    "scrolled": true
   },
   "outputs": [],
   "source": [
    "# Cria o distplot\n",
    "\n",
    "#mostra o Gráfico\n",
    "plt.show()"
   ]
  },
  {
   "cell_type": "code",
   "execution_count": null,
   "metadata": {},
   "outputs": [],
   "source": [
    "# Cria o displot\n",
    "\n",
    "\n",
    "#mostra o Gráfico\n",
    "plt.show()"
   ]
  },
  {
   "cell_type": "code",
   "execution_count": null,
   "metadata": {
    "scrolled": true
   },
   "outputs": [],
   "source": [
    "# Cria o distplot\n",
    "\n",
    "#mostra o Gráfico\n",
    "plt.show()"
   ]
  },
  {
   "cell_type": "markdown",
   "metadata": {},
   "source": [
    "##  "
   ]
  },
  {
   "cell_type": "markdown",
   "metadata": {},
   "source": [
    "### FacetGrid"
   ]
  },
  {
   "cell_type": "code",
   "execution_count": null,
   "metadata": {
    "ExecuteTime": {
     "end_time": "2021-06-17T23:27:22.922909Z",
     "start_time": "2021-06-17T23:27:21.988373Z"
    },
    "scrolled": true
   },
   "outputs": [],
   "source": [
    "# Cria o FacetGrid\n",
    "\n",
    "# Cria o gráfico relacionado\n",
    "\n",
    "# Mostra o Gráfico\n",
    "plt.show()"
   ]
  },
  {
   "cell_type": "markdown",
   "metadata": {},
   "source": [
    "##  "
   ]
  },
  {
   "cell_type": "markdown",
   "metadata": {},
   "source": [
    "### LMPlot"
   ]
  },
  {
   "cell_type": "code",
   "execution_count": null,
   "metadata": {},
   "outputs": [],
   "source": [
    "# Constroi o LMPlot\n",
    "\n",
    "\n",
    "# Mostra o Gráfico\n",
    "plt.show()"
   ]
  },
  {
   "cell_type": "code",
   "execution_count": null,
   "metadata": {},
   "outputs": [],
   "source": [
    "# Constroi o LMPlot\n",
    "\n",
    "\n",
    "# Mostra o Gráfico\n",
    "plt.show()"
   ]
  },
  {
   "cell_type": "markdown",
   "metadata": {},
   "source": [
    "## "
   ]
  },
  {
   "cell_type": "markdown",
   "metadata": {},
   "source": [
    "## Exercícios\n",
    "\n",
    "1 - Verifique se alguma outra combinação de variáveis é um bom classificador para sexo biologico\n",
    "\n",
    "2 - Gere um histograma das idades do Titanic\n",
    "\n",
    "Escolha um dataset da lista do começo da aula para os próximos exercícios\n",
    "\n",
    "3 - Escolha um dataset da lista e utilize o pairplot para analisar o comportamento dos parametros\n",
    "\n",
    "4 - Explore a documentação do seaborn e gere alguma visualização interessante que valide alguma hipótese do grupo"
   ]
  },
  {
   "cell_type": "code",
   "execution_count": null,
   "metadata": {},
   "outputs": [],
   "source": []
  },
  {
   "cell_type": "code",
   "execution_count": null,
   "metadata": {
    "scrolled": true
   },
   "outputs": [],
   "source": []
  },
  {
   "cell_type": "code",
   "execution_count": null,
   "metadata": {},
   "outputs": [],
   "source": []
  },
  {
   "cell_type": "markdown",
   "metadata": {},
   "source": [
    "### HeatMap"
   ]
  },
  {
   "cell_type": "markdown",
   "metadata": {},
   "source": [
    "O __HeatMap__ (Mapa de Calor) é um gráfico bem interessante quando queremos criar um _Grid_ de variações.<br><br>\n",
    "Para usar o HeatMap, vamos definir primeiramente as correlações do DataFrame _Iris_:"
   ]
  },
  {
   "cell_type": "code",
   "execution_count": null,
   "metadata": {
    "scrolled": true
   },
   "outputs": [],
   "source": []
  },
  {
   "cell_type": "markdown",
   "metadata": {},
   "source": [
    "A função __corr__ mostra como as variáveis do DataFrame estão relacionadas, ou seja o quanto cada variável influência na variação das outras:"
   ]
  },
  {
   "cell_type": "code",
   "execution_count": null,
   "metadata": {},
   "outputs": [],
   "source": [
    "# Cria o HeatMap\n",
    "\n",
    "\n",
    "# Mostra o Gráfico\n",
    "plt.show()"
   ]
  },
  {
   "cell_type": "markdown",
   "metadata": {},
   "source": [
    "## "
   ]
  },
  {
   "cell_type": "markdown",
   "metadata": {},
   "source": [
    "### CountPlot e BarPlot"
   ]
  },
  {
   "cell_type": "code",
   "execution_count": null,
   "metadata": {
    "ExecuteTime": {
     "end_time": "2021-06-17T23:31:27.100390Z",
     "start_time": "2021-06-17T23:31:26.728714Z"
    }
   },
   "outputs": [],
   "source": []
  },
  {
   "cell_type": "code",
   "execution_count": null,
   "metadata": {
    "ExecuteTime": {
     "end_time": "2021-06-17T23:33:07.912230Z",
     "start_time": "2021-06-17T23:33:07.338763Z"
    }
   },
   "outputs": [],
   "source": []
  },
  {
   "cell_type": "code",
   "execution_count": null,
   "metadata": {},
   "outputs": [],
   "source": []
  },
  {
   "cell_type": "markdown",
   "metadata": {},
   "source": [
    "## "
   ]
  },
  {
   "cell_type": "markdown",
   "metadata": {},
   "source": [
    "## Desafio"
   ]
  },
  {
   "cell_type": "markdown",
   "metadata": {},
   "source": [
    "__1)__ Façam a análise exploratória com o que aprendemos até então (NumPy, Pandas, Matplotlib e Seaborn) num dataset do Kaggle.\n",
    "Levante visualizações que possam ser interessantes e tentem interpretar os dados!"
   ]
  },
  {
   "cell_type": "markdown",
   "metadata": {},
   "source": [
    "## "
   ]
  },
  {
   "cell_type": "markdown",
   "metadata": {},
   "source": [
    "## Links, Artigos e Referências:"
   ]
  },
  {
   "cell_type": "markdown",
   "metadata": {},
   "source": [
    "- [Documentação do Matplotlib](https://matplotlib.org/), documentação onde vocês podem encontrar mais informações sobre os gráficos do Matplotlib;\n",
    "- [Documentação do Seaborn](https://seaborn.pydata.org/), documentação onde vocês podem encontrar mais informações sobre os gráficos do Seaborn;\n",
    "- [Documentação do Plotly](https://plotly.com/python/), documentação onde vocês podem encontrar mais informações sobre os gráficos do Plotly;\n",
    "- [Beautiful Plots with Python and Seaborn](https://betterprogramming.pub/beautiful-plots-with-python-and-seaborn-9d05c9ead6ed), artigo publicado no blog Better Programming\n",
    "- [MAtplotlib vs Seaborn vs Plotly](https://towardsdatascience.com/matplotlib-vs-seaborn-vs-plotly-f2b79f5bddb), artigo publicado pela Towards Data Science comparando as 3 bibliotecas;\n",
    "- [\"Como criar gráficos interativos utilizando Plotly e Python\"](https://paulovasconcellos.com.br/como-criar-gr%C3%A1ficos-interativos-utilizando-plotly-e-python-3eb6eda57a2b?source=---------62----------------------------), artigo escrito por Paulo Vasconcellos para o Data Hackers."
   ]
  }
 ],
 "metadata": {
  "hide_input": false,
  "kernelspec": {
   "display_name": "Python 3.8.10 64-bit",
   "language": "python",
   "name": "python3"
  },
  "language_info": {
   "codemirror_mode": {
    "name": "ipython",
    "version": 3
   },
   "file_extension": ".py",
   "mimetype": "text/x-python",
   "name": "python",
   "nbconvert_exporter": "python",
   "pygments_lexer": "ipython3",
   "version": "3.8.10"
  },
  "latex_envs": {
   "LaTeX_envs_menu_present": true,
   "autoclose": false,
   "autocomplete": true,
   "bibliofile": "biblio.bib",
   "cite_by": "apalike",
   "current_citInitial": 1,
   "eqLabelWithNumbers": true,
   "eqNumInitial": 1,
   "hotkeys": {
    "equation": "Ctrl-E",
    "itemize": "Ctrl-I"
   },
   "labels_anchors": false,
   "latex_user_defs": false,
   "report_style_numbering": false,
   "user_envs_cfg": false
  },
  "toc": {
   "base_numbering": 1,
   "nav_menu": {},
   "number_sections": true,
   "sideBar": true,
   "skip_h1_title": false,
   "title_cell": "Table of Contents",
   "title_sidebar": "Contents",
   "toc_cell": false,
   "toc_position": {},
   "toc_section_display": true,
   "toc_window_display": false
  },
  "varInspector": {
   "cols": {
    "lenName": 16,
    "lenType": 16,
    "lenVar": 40
   },
   "kernels_config": {
    "python": {
     "delete_cmd_postfix": "",
     "delete_cmd_prefix": "del ",
     "library": "var_list.py",
     "varRefreshCmd": "print(var_dic_list())"
    },
    "r": {
     "delete_cmd_postfix": ") ",
     "delete_cmd_prefix": "rm(",
     "library": "var_list.r",
     "varRefreshCmd": "cat(var_dic_list()) "
    }
   },
   "types_to_exclude": [
    "module",
    "function",
    "builtin_function_or_method",
    "instance",
    "_Feature"
   ],
   "window_display": false
  },
  "vscode": {
   "interpreter": {
    "hash": "916dbcbb3f70747c44a77c7bcd40155683ae19c65e1c03b4aa3499c5328201f1"
   }
  }
 },
 "nbformat": 4,
 "nbformat_minor": 2
}
